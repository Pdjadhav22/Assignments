{
 "cells": [
  {
   "cell_type": "markdown",
   "metadata": {},
   "source": [
    "# Complex Numbers Assignment"
   ]
  },
  {
   "cell_type": "code",
   "execution_count": 3,
   "metadata": {},
   "outputs": [
    {
     "name": "stdout",
     "output_type": "stream",
     "text": [
      "(20+30j)\n",
      "ID of declared complex number: 1743181990928\n",
      "Type of value declared: <class 'complex'>\n"
     ]
    }
   ],
   "source": [
    "# Q-->> Declare a complex number and store it in a variable. Check the type and print the id of the same.\n",
    "\n",
    "# Complex number declared and stored in a variable\n",
    "comp_1 = 20 + 30j\n",
    "print (comp_1)\n",
    "\n",
    "# checking type & id of decalred complex number\n",
    "print (f'ID of declared complex number: {id(comp_1)}')\n",
    "print (f'Type of value declared: {type(comp_1)}')"
   ]
  },
  {
   "cell_type": "code",
   "execution_count": 7,
   "metadata": {},
   "outputs": [
    {
     "name": "stdout",
     "output_type": "stream",
     "text": [
      "Sum of complex numbers: (84+80j)\n",
      "Product of complex numbers: (80+4240j)\n",
      "Divison of complex numbers: (0.5516014234875445+0.7651245551601423j)\n",
      "First number to power of Second numbers: (2.3120487370981076e+104-1.2136638238865387e+104j)\n"
     ]
    }
   ],
   "source": [
    "# Q-->>   Arithmetic Operations on complex number\n",
    "#         Take two different complex numbers.\n",
    "#         Store them in two different variables.\n",
    "#         Do below operations on them:-\n",
    "#         Find sum of both numbers\n",
    "#         Find difference between them\n",
    "#         Find the product of both numbers.\n",
    "#         Find value after dividing first num with second number\n",
    "#         Find the result of the first num to the power of the second number\n",
    "\n",
    "# Two complex numbers stored in variables\n",
    "num_1 = 20 + 60j\n",
    "num_2 = 64 + 20j\n",
    "\n",
    "# Arithmetic operations on complex numbers\n",
    "print (f'Sum of complex numbers: {num_1 + num_2}')\n",
    "print (f'Product of complex numbers: {num_1 * num_2}')\n",
    "print (f'Divison of complex numbers: {num_1 / num_2}')\n",
    "print (f'First number to power of Second numbers: {num_1 ** num_2}')"
   ]
  },
  {
   "cell_type": "code",
   "execution_count": null,
   "metadata": {},
   "outputs": [],
   "source": [
    "# Comparison Operation not applicable between instance of complex values.\n",
    "# Object reusability concept is not applicable on complex number"
   ]
  },
  {
   "cell_type": "code",
   "execution_count": 10,
   "metadata": {},
   "outputs": [
    {
     "name": "stdout",
     "output_type": "stream",
     "text": [
      "Are both numbers same: False\n",
      "Are both numbers different: True\n"
     ]
    }
   ],
   "source": [
    "# Q-->>   Equality Operator\n",
    "#         Take two different complex numbers.\n",
    "#         Store them in two different variables.\n",
    "#         Equate them using equality operators (==, !=)\n",
    "#         Observe the output(return type should be boolean)\n",
    "\n",
    "# Two comlpex numbers stored in variables\n",
    "num_1 = 50+50j\n",
    "num_2 = 40+60j\n",
    "\n",
    "# Equality operator on complex numbers\n",
    "print (f'Are both numbers same: {num_1 == num_2}')\n",
    "print (f'Are both numbers different: {num_1 != num_2}')"
   ]
  },
  {
   "cell_type": "code",
   "execution_count": 12,
   "metadata": {},
   "outputs": [
    {
     "name": "stdout",
     "output_type": "stream",
     "text": [
      "True\n",
      "True\n",
      "True\n"
     ]
    }
   ],
   "source": [
    "# Q-->>   Logical operators\n",
    "#         Observe the output of below code\n",
    "#         Cross check the output manually\n",
    "\n",
    "# print ( 10 + 20j and 20 + 30j )\n",
    "print (bool(10 + 20j))   # Output True - as bool of anything other than 0 + 0j is True.\n",
    "print (bool(20 + 30j))    # Output True - as bool of anything other than 0 + 0j is True.\n",
    "print (bool(10+20j) and bool(20+30j)) # Output True - as both values are True\n",
    "# and operator gives returns last true value as output i.e. 20+30j in this case.\n",
    "\n"
   ]
  },
  {
   "cell_type": "code",
   "execution_count": 13,
   "metadata": {},
   "outputs": [
    {
     "name": "stdout",
     "output_type": "stream",
     "text": [
      "False\n",
      "True\n",
      "False\n"
     ]
    }
   ],
   "source": [
    "# print ( 0 + 0j and 20 + 30j ) # Output is 0j\n",
    "\n",
    "print (bool(0+0j))  # Output False - as bool of 0 + 0j is False.\n",
    "print (bool(20+30j)) # Output True - as bool of anything other than 0 + 0j is True.\n",
    "print (bool(0+0j) and bool(20+30j)) #Output False - as one of the value is False.\n",
    "# and operator returns firt False value as output i.e. 0j in this case."
   ]
  },
  {
   "cell_type": "code",
   "execution_count": 14,
   "metadata": {},
   "outputs": [
    {
     "name": "stdout",
     "output_type": "stream",
     "text": [
      "True\n",
      "False\n",
      "False\n"
     ]
    }
   ],
   "source": [
    "# print ( 20 + 30j and 0 + 0j ) # Output is 0j\n",
    "\n",
    "print (bool (20+30j))  #Output True - as bool of anything other than 0+0j is True\n",
    "print (bool (0+0j))    # Output False - as bool of 0+0j is False.\n",
    "print (bool(20+30j) and bool(0+0j))  #Output False - as one of the value is False.\n",
    "# and operator returns first False as output i.e. 0j in this case."
   ]
  },
  {
   "cell_type": "code",
   "execution_count": 15,
   "metadata": {},
   "outputs": [
    {
     "name": "stdout",
     "output_type": "stream",
     "text": [
      "False\n",
      "False\n",
      "False\n"
     ]
    }
   ],
   "source": [
    "# print ( 0 + 0j and 0 + 0j ) # Output is 0j\n",
    "\n",
    "print (bool(0+0j))   # Output False - as bool of 0+0j is always False.\n",
    "print (bool(0+0j))   # Output False - as bool of 0+0j is awlwaus False.\n",
    "print (bool(0+0j) and bool(0+0j))   # Output False - as both values are False.\n",
    "# and operator returns first False value as output i.e. 0j in this case."
   ]
  },
  {
   "cell_type": "code",
   "execution_count": 16,
   "metadata": {},
   "outputs": [
    {
     "name": "stdout",
     "output_type": "stream",
     "text": [
      "True\n",
      "True\n",
      "True\n"
     ]
    }
   ],
   "source": [
    "# print ( 10 + 20j or 20 + 30j ) # Output is 10+20j\n",
    "\n",
    "print (bool(10+20j))   # Output True - as bool of anthing other than 0+0j is True.\n",
    "print (bool(20+30j))   # Output True - as bool of anthing other than 0+0j is True.\n",
    "print (bool(10+20j) or bool(20+30j))  # Outpt True - as both values are True.\n",
    "# or operator returns first True value as output i.e. 10+20j in this case."
   ]
  },
  {
   "cell_type": "code",
   "execution_count": 17,
   "metadata": {},
   "outputs": [
    {
     "name": "stdout",
     "output_type": "stream",
     "text": [
      "False\n",
      "True\n",
      "True\n"
     ]
    }
   ],
   "source": [
    "# print ( 0 + 0j or 20 + 30j ) # Output is 20+30j\n",
    "\n",
    "print (bool(0+0j))  #Output False - as bool of 0+0j is False.\n",
    "print (bool(20+30j)) #Output True - as bool of anthing other than 0+0j is True.\n",
    "print ( bool(0+0j) or bool(20+30j))  #Output True - as one of the value is True.\n",
    "# or operator returns first true value as output i.e. 20+30j in this case."
   ]
  },
  {
   "cell_type": "code",
   "execution_count": 18,
   "metadata": {},
   "outputs": [
    {
     "name": "stdout",
     "output_type": "stream",
     "text": [
      "True\n",
      "False\n",
      "True\n"
     ]
    }
   ],
   "source": [
    "# print ( 20 + 30j or 0 + 0j ) # Output is 20+30j\n",
    "\n",
    "print (bool(20+30j))  # Output True - as bool of anthing other than 0+0j is True.\n",
    "print (bool(0+0j))    # Output False - as bool of 0+0j is False.\n",
    "print (bool(20+30j) or bool(0+0j))   #Output True - as one of the value is True.\n",
    "# or operator returns first True value as output i.e. 20+30j in this case."
   ]
  },
  {
   "cell_type": "code",
   "execution_count": 19,
   "metadata": {},
   "outputs": [
    {
     "name": "stdout",
     "output_type": "stream",
     "text": [
      "False\n",
      "False\n",
      "False\n"
     ]
    }
   ],
   "source": [
    "# print ( 0 + 0j or 0 + 0j ) # Output is 0j\n",
    "\n",
    "print (bool(0+0j))    # Output False - as bool of 0+0j is False.\n",
    "print (bool(0+0j))    # Output False - as bool of 0+0j is False.\n",
    "print (bool(0+0j) or bool(0+0j))  #Output False - as both values are False.\n",
    "# or operator returns last False value as output i.e. 0j in this case."
   ]
  },
  {
   "cell_type": "code",
   "execution_count": 20,
   "metadata": {},
   "outputs": [
    {
     "name": "stdout",
     "output_type": "stream",
     "text": [
      "True\n",
      "False\n"
     ]
    }
   ],
   "source": [
    "# print ( not 10 + 20j ) # Output is False\n",
    "\n",
    "print (bool(10+20j))   # Output True - as bool of anthing other than 0+0j is True.\n",
    "print ( not bool(10+20j))  #Output False - as not operator changes True to False & vice-versa."
   ]
  },
  {
   "cell_type": "code",
   "execution_count": null,
   "metadata": {},
   "outputs": [],
   "source": [
    "# print ( not 0 + 0j ) # Output is True\n",
    "\n",
    "print (bool(0+0j))   # Output False - as bool of 0+0j is False. \n",
    "print ( not bool(0+0j))  # Output True - as not operator changes False to True & vice-versa."
   ]
  },
  {
   "cell_type": "code",
   "execution_count": 23,
   "metadata": {},
   "outputs": [
    {
     "name": "stdout",
     "output_type": "stream",
     "text": [
      "1797296554160\n",
      "1797296554032\n",
      "False\n",
      "True\n"
     ]
    }
   ],
   "source": [
    "# Q-->>   What is the output of the expression inside the print statement.\n",
    "#         Cross check before running the program.\n",
    "#         a = 10 + 20j\n",
    "#         b = 10 + 20j\n",
    "#         print (a is b) #False #True or False?\n",
    "#         print (a is not b) #True #True or False?\n",
    "\n",
    "a = 10 + 20j\n",
    "b = 10 + 20j\n",
    "print (id(a))\n",
    "print (id(b))\n",
    "# as Id of both the numbers are different,so a is b will be False & a is not b will be True\n",
    "print (a is b)\n",
    "print (a is not b)\n",
    "# Object reusability not applicable to complex numbers."
   ]
  },
  {
   "cell_type": "code",
   "execution_count": 25,
   "metadata": {},
   "outputs": [
    {
     "name": "stdout",
     "output_type": "stream",
     "text": [
      "True\n",
      "True\n",
      "True\n",
      "True\n",
      "True\n",
      "True\n"
     ]
    }
   ],
   "source": [
    "# Q-->>   Membership operation\n",
    "#         in, not in are two membership operators and it returns boolean value\n",
    "#         print ( '2.7' in 'Python2.7.8' ) #True\n",
    "#         print ( 10 + 20j in [ 10 , 10.20 , 10 + 20j , 'Python' ]) #True\n",
    "#         print ( 10 + 20j in ( 10 , 10.20 , 10 + 20j , 'Python' )) #True\n",
    "#         print ( 30 + 40j in { 1 , 20.30 , 30 + 40j }) #True\n",
    "#         print ( 30 + 40j in { 1 : 100 , 2.3 : 200 , 30 + 40j : 300 }) #True\n",
    "#         print ( 10 in range ( 20 ))\n",
    "\n",
    "print ( '2.7' in 'Python2.7.8' )                              #True as 2.2 present in given string\n",
    "print ( 10 + 20j in [ 10 , 10.20 , 10 + 20j , 'Python' ])     #True as 10=20j is present in given list\n",
    "print ( 10 + 20j in ( 10 , 10.20 , 10 + 20j , 'Python' ))     #True as 10+20J is present in given tuple\n",
    "print ( 30 + 40j in { 1 , 20.30 , 30 + 40j })                 #True as 30+40j is present in given set\n",
    "print ( 30 + 40j in { 1 : 100 , 2.3 : 200 , 30 + 40j : 300 }) #True as 30+40j is present in given dict.\n",
    "print ( 10 in range ( 20 ))                                   #True as 10 is present in given range."
   ]
  },
  {
   "cell_type": "code",
   "execution_count": null,
   "metadata": {},
   "outputs": [],
   "source": []
  }
 ],
 "metadata": {
  "kernelspec": {
   "display_name": "Python 3",
   "language": "python",
   "name": "python3"
  },
  "language_info": {
   "codemirror_mode": {
    "name": "ipython",
    "version": 3
   },
   "file_extension": ".py",
   "mimetype": "text/x-python",
   "name": "python",
   "nbconvert_exporter": "python",
   "pygments_lexer": "ipython3",
   "version": "3.8.5"
  }
 },
 "nbformat": 4,
 "nbformat_minor": 4
}
