{
 "cells": [
  {
   "cell_type": "code",
   "execution_count": 3,
   "metadata": {},
   "outputs": [
    {
     "name": "stdout",
     "output_type": "stream",
     "text": [
      "(20+30j)\n",
      "ID of declared complex number: 1743181990928\n",
      "Type of value declared: <class 'complex'>\n"
     ]
    }
   ],
   "source": [
    "# Q-->> Declare a complex number and store it in a variable. Check the type and print the id of the same.\n",
    "\n",
    "# Complex number declared and stored in a variable\n",
    "comp_1 = 20 + 30j\n",
    "print (comp_1)\n",
    "\n",
    "# checking type & id of decalred complex number\n",
    "print (f'ID of declared complex number: {id(comp_1)}')\n",
    "print (f'Type of value declared: {type(comp_1)}')"
   ]
  },
  {
   "cell_type": "code",
   "execution_count": null,
   "metadata": {},
   "outputs": [],
   "source": []
  }
 ],
 "metadata": {
  "kernelspec": {
   "display_name": "Python 3",
   "language": "python",
   "name": "python3"
  },
  "language_info": {
   "codemirror_mode": {
    "name": "ipython",
    "version": 3
   },
   "file_extension": ".py",
   "mimetype": "text/x-python",
   "name": "python",
   "nbconvert_exporter": "python",
   "pygments_lexer": "ipython3",
   "version": "3.8.5"
  }
 },
 "nbformat": 4,
 "nbformat_minor": 4
}
