{
 "cells": [
  {
   "cell_type": "code",
   "execution_count": 20,
   "metadata": {
    "ExecuteTime": {
     "end_time": "2021-06-11T16:59:23.096801Z",
     "start_time": "2021-06-11T16:59:13.783736Z"
    }
   },
   "outputs": [
    {
     "name": "stdout",
     "output_type": "stream",
     "text": [
      "Please Enter value between 0-9:        0       \n",
      "Zero\n"
     ]
    }
   ],
   "source": [
    "# Q. W. A P. which takes one number from 0 to 9 from the user and prints it in the word. And if the word is not from 0 to 9 then\n",
    "# it should print that number is outside of the range and program should exit.\n",
    "# For exapmple:-\n",
    "# input = 1\n",
    "# output = one\n",
    "\n",
    "# creating number to word sequances using dictionary\n",
    "num_dict = { 1:'One', 2:'Two', 3:'Three', 4:'Four', 5:'Five', \n",
    "            6:'Six', 7:'Seven', 8:'Eight', 9:'Nine', 0:'Zero'}\n",
    "\n",
    "# taking user input & removed any spaces using strip method\n",
    "user_input = (input('Please Enter value between 0-9: ')).strip()\n",
    "\n",
    "# checking if input type is integer\n",
    "if user_input.isnumeric() :\n",
    "    if int(user_input) in range(10):\n",
    "        print (num_dict[int(user_input)])\n",
    "    else:\n",
    "        print ('Entered value is outside range of 0 to 9')\n",
    "else:\n",
    "    print('Please enter an integer value between 0 to 9')"
   ]
  },
  {
   "cell_type": "code",
   "execution_count": 7,
   "metadata": {
    "ExecuteTime": {
     "end_time": "2021-06-12T14:29:54.232614Z",
     "start_time": "2021-06-12T14:29:44.997999Z"
    }
   },
   "outputs": [
    {
     "name": "stdout",
     "output_type": "stream",
     "text": [
      "Enter first numeric value: 5\n",
      "Enter second numeric value:  6\n",
      "* To add enter 1\n",
      "* to subtract enter 2\n",
      "* To multiply enter 3\n",
      "* To divide enter 4\n",
      "* To divide and find quotient enter 5\n",
      "* To divide and find remainder enter 6\n",
      "* To find num1 to the power of num2 enter 7\n",
      "* To Come out of the program enter 8\n",
      "5\n",
      "0\n"
     ]
    }
   ],
   "source": [
    "# Q. W. A P. to implement calculator but the operation to be done and two numbers will be taken as input from user:-\n",
    "# Operation console should show below:-\n",
    "# Please select any one operation from below:-\n",
    "# * To add enter 1\n",
    "# * to subtract enter 2\n",
    "# * To multiply enter 3\n",
    "# * To divide enter 4\n",
    "# * To divide and find quotient enter 5\n",
    "# * To divide and find remainder enter 6\n",
    "# * To divide and find num1 to the power of num2 enter 7\n",
    "# * To Come out of the program enter 8\n",
    " \n",
    "# operation option list display    \n",
    "opr_sel = eval(input('''* To add enter 1\n",
    "* to subtract enter 2\n",
    "* To multiply enter 3\n",
    "* To divide enter 4\n",
    "* To divide and find quotient enter 5\n",
    "* To divide and find remainder enter 6\n",
    "* To find num1 to the power of num2 enter 7\n",
    "* To Come out of the program enter 8\n",
    "'''))\n",
    "\n",
    "# take user input of 2 numbers\n",
    "num1 = eval(input('Enter first numeric value: '))\n",
    "num2 = eval(input('Enter second numeric value:  '))\n",
    "\n",
    "if opr_sel == 1: print (num1 + num2)\n",
    "elif opr_sel ==2: print (num1 - num2)\n",
    "elif opr_sel == 3: print (num1 * num2)\n",
    "elif opr_sel == 4: print (num1 / num2)\n",
    "elif opr_sel == 5: print(num1 // num2)\n",
    "elif opr_sel == 6: print (num1 % num2)\n",
    "elif opr_sel == 7: print (num1 ** num2)\n",
    "elif opr_sel == 8: print ('Thank you have a nice day')\n",
    "else: print ('please select correct option')\n",
    "   "
   ]
  },
  {
   "cell_type": "code",
   "execution_count": 64,
   "metadata": {
    "ExecuteTime": {
     "end_time": "2021-06-12T16:54:28.668640Z",
     "start_time": "2021-06-12T16:54:24.944837Z"
    }
   },
   "outputs": [
    {
     "name": "stdout",
     "output_type": "stream",
     "text": [
      "Enter a valid year: 2024\n",
      "2024 is a leap year\n"
     ]
    }
   ],
   "source": [
    "# Q. W A P to check whether a year entered by user is an leap year or not ?\n",
    "# Check with below input:-\n",
    "# leap year:- 2012 , 1968 , 2004 , 1200 , 1600 , 2400\n",
    "# Non-lear year:- 1971 , 2006 , 1700 , 1800 , 1900\n",
    "\n",
    "# checking for leap year\n",
    "def leap_year(a):\n",
    "    if year_check % 400 == 0 or year_check%4 == 0 and year_check%100!=0:\n",
    "        print (f'{year_check} is a leap year')\n",
    "    else:\n",
    "        print (f'{year_check} is not a leap year')\n",
    "\n",
    "# initialising user input year\n",
    "year_check = int(input('Enter a valid year: '))\n",
    "\n",
    "#funcition call\n",
    "leap_year(year_check)\n"
   ]
  },
  {
   "cell_type": "code",
   "execution_count": 57,
   "metadata": {
    "ExecuteTime": {
     "end_time": "2021-06-12T16:50:38.179318Z",
     "start_time": "2021-06-12T16:50:36.333191Z"
    }
   },
   "outputs": [
    {
     "name": "stdout",
     "output_type": "stream",
     "text": [
      "Enter a Integer number: 5\n",
      "5 is Odd number\n"
     ]
    }
   ],
   "source": [
    "# Q. W A P which takes one number from the user and checks whether it is an even or odd number?, If it even then prints number is\n",
    "# even number else prints that number is odd number.\n",
    "\n",
    "# check if number is even or odd\n",
    "def even_odd(a):\n",
    "    print (f'{num1} is even number' if num1%2 == 0 else f'{num1} is Odd number')\n",
    "\n",
    "# initialising user input\n",
    "num1 = int(input('Enter a Integer number: '))\n",
    "\n",
    "# Function call\n",
    "even_odd(num1)"
   ]
  },
  {
   "cell_type": "code",
   "execution_count": 55,
   "metadata": {
    "ExecuteTime": {
     "end_time": "2021-06-12T16:48:45.686737Z",
     "start_time": "2021-06-12T16:48:43.713878Z"
    }
   },
   "outputs": [
    {
     "name": "stdout",
     "output_type": "stream",
     "text": [
      "Enter first number: 8\n",
      "Enter second number: 6\n",
      "8 is greater than 6\n",
      "8 is greater than 6\n"
     ]
    }
   ],
   "source": [
    "# Q. W A P which takes two numbers from the user and prints below output:-\n",
    "# 1 . num1 is greater than num2 if num1 is greater than num2\n",
    "# 2 . num1 is smaller than num2 if num1 is smaller than num2\n",
    "# 3 . num1 is equal to num2 if num1 and num2 are equal\n",
    "\n",
    "# Comparing 2 numbers using nested tertory operator\n",
    "def compare_numbers1(a,b):\n",
    "    return print (f'{a} is greater than {b}' if a > b else f'{a} is smaller than {b}' if a < b else f'{a} is equal to {b}')\n",
    "\n",
    "\n",
    "\n",
    "# # Comparing 2 numbers using if else\n",
    "def compare_numbers2(a,b):\n",
    "    if a >= b:\n",
    "        if a == b:\n",
    "            print (f'{a} is equal to {b}')\n",
    "        else: \n",
    "            print (f'{a} is greater than {b}')\n",
    "    else: \n",
    "        print (f'{a} is smaller than {b}')\n",
    "\n",
    "#initialisnig user input numbers\n",
    "num1 = int(input('Enter first number: '))\n",
    "num2 = int(input('Enter second number: '))\n",
    "\n",
    "compare_numbers1(num1,num2)\n",
    "compare_numbers2(num1,num2)"
   ]
  },
  {
   "cell_type": "code",
   "execution_count": null,
   "metadata": {},
   "outputs": [],
   "source": []
  },
  {
   "cell_type": "code",
   "execution_count": 66,
   "metadata": {
    "ExecuteTime": {
     "end_time": "2021-06-12T17:09:32.601123Z",
     "start_time": "2021-06-12T17:09:29.488615Z"
    }
   },
   "outputs": [
    {
     "name": "stdout",
     "output_type": "stream",
     "text": [
      "Enter first number: 4\n",
      "Enter Second number: 5\n",
      "Enter third number: 8\n",
      "8 is greater than 4 and 5\n",
      "8 is greater than 4 and 5\n"
     ]
    }
   ],
   "source": [
    "# Q. W A P which takes three numbers from the user and prints below\n",
    "# output:-\n",
    "# 1 . num1 is greater than num2 and num3 if num1 is greater than num2 and num3\n",
    "# 2 . num2 is greater than num1 and num3 if num2 is greater than num1 and num3\n",
    "# 3 . num3 is greater than num1 and num2 if num3 is greater than num1 and num2\n",
    "\n",
    "# Function prog.\n",
    "def get_max(*args):\n",
    "    # making list with all input numbers by converting tuple into list\n",
    "    lst = list(args)\n",
    "    max_val = max(lst)\n",
    "    lst.remove(max_val)\n",
    "    return print (f'{max_val} is greater than {lst[0]} and {lst[1]}')\n",
    "\n",
    "# initialising user input\n",
    "num1 = int(input('Enter first number: '))\n",
    "num2 = int(input('Enter Second number: '))\n",
    "num3 = int(input('Enter third number: '))\n",
    "\n",
    "# Function call\n",
    "get_max(num1,num2,num3)\n",
    "\n",
    "# getting max using ternery operator\n",
    "def get_max_ternery(a,b,c):\n",
    "    lst = (a,b,c)\n",
    "    print (f'{a} is greater than {b} and {c}' if a == max(lst) else f'{b} is greater than {a} and {c}' \n",
    "           if b == max(lst) else f'{c} is greater than {a} and {b}')\n",
    "\n",
    "get_max_ternery(num1,num2,num3)"
   ]
  },
  {
   "cell_type": "code",
   "execution_count": 73,
   "metadata": {
    "ExecuteTime": {
     "end_time": "2021-06-12T18:00:32.669922Z",
     "start_time": "2021-06-12T18:00:32.657205Z"
    }
   },
   "outputs": [
    {
     "data": {
      "text/plain": [
       "55"
      ]
     },
     "execution_count": 73,
     "metadata": {},
     "output_type": "execute_result"
    }
   ],
   "source": [
    "# Q. Write a Python program to find the length of the my_str using loop:-\n",
    "# Input:- 'Write a Python program to find the length of the my_str'\n",
    "# Output:- 55\n",
    "\n",
    "# to find length of input string\n",
    "def len_str(a):\n",
    "    i = 0\n",
    "    while i < len(a):\n",
    "        i += 1\n",
    "    return i\n",
    "\n",
    "#initialising input string\n",
    "str1 = 'Write a Python program to find the length of the my_str'\n",
    "len_str(str1)"
   ]
  },
  {
   "cell_type": "code",
   "execution_count": 82,
   "metadata": {
    "ExecuteTime": {
     "end_time": "2021-06-12T18:16:45.771953Z",
     "start_time": "2021-06-12T18:16:45.757260Z"
    }
   },
   "outputs": [
    {
     "data": {
      "text/plain": [
       "9"
      ]
     },
     "execution_count": 82,
     "metadata": {},
     "output_type": "execute_result"
    }
   ],
   "source": [
    "# Q. Write a Python program to find the total number of times letter 'p'\n",
    "# is appeared in the below string using loop:-\n",
    "# Input:- 'peter piper picked a peck of pickled peppers.\\n'\n",
    "# Output:- 9\n",
    "\n",
    "# to find total appearances of a letter in given string\n",
    "def letter_in_string(a,b):\n",
    "    i = 0\n",
    "    for ele in a:\n",
    "        if ele == b:\n",
    "            i += 1\n",
    "    return i\n",
    "\n",
    "#inititalising input string\n",
    "str1 = 'peter piper picked a peck of pickled peppers.\\n'\n",
    "letter_in_string(str1,'p')"
   ]
  },
  {
   "cell_type": "code",
   "execution_count": 88,
   "metadata": {
    "ExecuteTime": {
     "end_time": "2021-06-12T18:22:53.478455Z",
     "start_time": "2021-06-12T18:22:53.452721Z"
    }
   },
   "outputs": [
    {
     "name": "stdout",
     "output_type": "stream",
     "text": [
      "0\n",
      "6\n",
      "8\n",
      "12\n",
      "21\n",
      "29\n",
      "37\n",
      "39\n",
      "40\n"
     ]
    }
   ],
   "source": [
    "# Q. Write a Python Program, to print all the indexes of all occurences of\n",
    "# letter 'p' appeared in the string using loop:-\n",
    "# Input:- 'peter piper picked a peck of pickled peppers.'\n",
    "# Output:-\n",
    "# 0\n",
    "# 6\n",
    "# 8\n",
    "# 12\n",
    "# 21\n",
    "# 29\n",
    "# 37\n",
    "# 39\n",
    "# 40\n",
    "\n",
    "# to get all indexes of givn letter\n",
    "def ind_letter(s,l):\n",
    "    for count,i in enumerate(s):\n",
    "        if i == l:\n",
    "            print (count)\n",
    "\n",
    "# initilising given string\n",
    "str1 = 'peter piper picked a peck of pickled peppers.'\n",
    "ind_letter(str1,'p')"
   ]
  },
  {
   "cell_type": "code",
   "execution_count": 42,
   "metadata": {
    "ExecuteTime": {
     "end_time": "2021-06-14T18:09:37.833137Z",
     "start_time": "2021-06-14T18:09:37.818040Z"
    }
   },
   "outputs": [
    {
     "data": {
      "text/plain": [
       "['peter', 'piper', 'picked', 'a', 'peck', 'of', 'pickled', 'peppers']"
      ]
     },
     "execution_count": 42,
     "metadata": {},
     "output_type": "execute_result"
    }
   ],
   "source": [
    "# Q. Write a python program to find below output using loop:-\n",
    "# Input:- 'peter piper picked a peck of pickled peppers.'\n",
    "# Output:- [ 'peter' , 'piper' , 'picked' , 'a' , 'peck' , 'of' , 'pickled' ,\n",
    "# 'peppers' ]\n",
    "\n",
    "# to convert sentences in lists of words\n",
    "def str_to_list(a):\n",
    "    lst = []\n",
    "    count1 = 0\n",
    "    for count, i in enumerate(str1):\n",
    "           if i == ' ' or count == len(str1)-1:\n",
    "                ele = str1[count1:count]\n",
    "                count1 = count+1\n",
    "                lst.append(ele)\n",
    "    return lst\n",
    "\n",
    "#initilising input string\n",
    "str1 = 'peter piper picked a peck of pickled peppers.'\n",
    "str_to_list(str1)"
   ]
  },
  {
   "cell_type": "code",
   "execution_count": 65,
   "metadata": {
    "ExecuteTime": {
     "end_time": "2021-06-14T19:07:02.111312Z",
     "start_time": "2021-06-14T19:07:02.096864Z"
    }
   },
   "outputs": [
    {
     "name": "stdout",
     "output_type": "stream",
     "text": [
      ".sreppep delkcip fo kcep a dekcip repip retep\n"
     ]
    },
    {
     "data": {
      "text/plain": [
       "'peppers. pickled of peck a picked piper peter'"
      ]
     },
     "execution_count": 65,
     "metadata": {},
     "output_type": "execute_result"
    }
   ],
   "source": [
    "# Q. Write a python program to find below output using loop:-\n",
    "# Input:- 'peter piper picked a peck of pickled peppers.'\n",
    "# Output:- 'peppers pickled of peck a picked piper peter'\n",
    "\n",
    "# \n",
    "def reversed_string(str1):\n",
    "    str1_rev = str1[::-1]        # getting reversed string\n",
    "    print (str1_rev)\n",
    "    out_str = ''\n",
    "    result_str=''\n",
    "    for count, i in enumerate(str1_rev):\n",
    "        if i != ' ' or count == len(str1_rev)-1:     # checking non-spaces or last letter of string\n",
    "            out_str = i + out_str                     # printing letters in reverse order of reverse string\n",
    "        else:\n",
    "            result_str += (out_str + i)             # storing word before space\n",
    "            out_str = ''                            # making string empty as it is stotred in result_str\n",
    "    return result_str + out_str\n",
    "\n",
    "# initialising input string\n",
    "str1 = 'peter piper picked a peck of pickled peppers.'\n",
    "reversed_string(str1)"
   ]
  },
  {
   "cell_type": "code",
   "execution_count": 50,
   "metadata": {
    "ExecuteTime": {
     "end_time": "2021-06-14T18:37:30.289901Z",
     "start_time": "2021-06-14T18:37:30.276977Z"
    }
   },
   "outputs": [
    {
     "data": {
      "text/plain": [
       "'.sreppep delkcip fo kcep a dekcip repip retep'"
      ]
     },
     "execution_count": 50,
     "metadata": {},
     "output_type": "execute_result"
    }
   ],
   "source": [
    "# Q. Write a python program to find below output using loop:-\n",
    "# Input:- 'peter piper picked a peck of pickled peppers.'\n",
    "# Output:- '.sreppep delkcip fo kcep a dekcip repip retep'\n",
    "\n",
    "def reverse_string(str1):\n",
    "    out_str = ''\n",
    "    for i in str1:\n",
    "        out_str = i + out_str\n",
    "    return out_str\n",
    "\n",
    "#initialise input string\n",
    "str1 = 'peter piper picked a peck of pickled peppers.'\n",
    "reverse_string(str1)"
   ]
  },
  {
   "cell_type": "code",
   "execution_count": 68,
   "metadata": {
    "ExecuteTime": {
     "end_time": "2021-06-14T19:12:20.110203Z",
     "start_time": "2021-06-14T19:12:20.093523Z"
    }
   },
   "outputs": [
    {
     "data": {
      "text/plain": [
       "'retep repip dekcip a kcep fo delkcip .sreppep'"
      ]
     },
     "execution_count": 68,
     "metadata": {},
     "output_type": "execute_result"
    }
   ],
   "source": [
    "# Q. Write a python program to find below output using loop:-\n",
    "# Input:- 'peter piper picked a peck of pickled peppers.'\n",
    "# Output:- 'retep repip dekcip a kcep fo delkcip sreppep'\n",
    "\n",
    "def reverse_word_string(str1):\n",
    "    out_str = ''\n",
    "    result_str = ''\n",
    "    for count, i in enumerate(str1):\n",
    "        if i != ' ' or count == len(str1)-1:\n",
    "            out_str = i + out_str        # concatenating each letter till reached space\n",
    "        else:\n",
    "            result_str += (out_str + i)   # storing word till space in result_str\n",
    "            out_str = ''\n",
    "    return result_str + out_str            # combining resut_str & last stored Out_str\n",
    "\n",
    "#initialise input string\n",
    "str1 = 'peter piper picked a peck of pickled peppers.'\n",
    "reverse_word_string(str1)"
   ]
  },
  {
   "cell_type": "code",
   "execution_count": 36,
   "metadata": {
    "ExecuteTime": {
     "end_time": "2021-06-15T15:34:27.606489Z",
     "start_time": "2021-06-15T15:34:27.592282Z"
    }
   },
   "outputs": [
    {
     "data": {
      "text/plain": [
       "'Peter Piper Picked A Peck Of Pickled Peppers.'"
      ]
     },
     "execution_count": 36,
     "metadata": {},
     "output_type": "execute_result"
    }
   ],
   "source": [
    "# Q. Write a python program to find below output using loop:-\n",
    "# Input:- 'peter piper picked a peck of pickled peppers.'\n",
    "# Output:- 'Peter Piper Picked A Peck Of Pickled Peppers'\n",
    "\n",
    "def title_string(str1):\n",
    "    lst = str1.split()\n",
    "    for count, i in enumerate(lst):\n",
    "        lst[count]= i.capitalize()\n",
    "    return ' '.join (lst)\n",
    "\n",
    "# initilaiseing givrn input string\n",
    "str1 = 'peter piper picked a peck of pickled peppers.'\n",
    "title_string(str1)"
   ]
  },
  {
   "cell_type": "code",
   "execution_count": 14,
   "metadata": {
    "ExecuteTime": {
     "end_time": "2021-06-15T18:09:53.187916Z",
     "start_time": "2021-06-15T18:09:53.181931Z"
    }
   },
   "outputs": [
    {
     "data": {
      "text/plain": [
       "'Peter piper picked a peck of pickled peppers.'"
      ]
     },
     "execution_count": 14,
     "metadata": {},
     "output_type": "execute_result"
    }
   ],
   "source": [
    "# Q. Write a python program to find below output using loop:-\n",
    "# Input:- 'Peter Piper Picked A Peck Of Pickled Peppers.'\n",
    "# Output:- 'Peter piper picked a peck of pickled peppers'\n",
    "\n",
    "def capitalize_str(str1):\n",
    "    lst = str1.split()\n",
    "    for count, i in enumerate(lst):\n",
    "        if count != 0:\n",
    "            lst[count] =  i.lower()\n",
    "    return ' '.join(lst)\n",
    "\n",
    "# initilising input string\n",
    "str1 = 'Peter Piper Picked A Peck Of Pickled Peppers.'\n",
    "capitalize_str(str1)"
   ]
  },
  {
   "cell_type": "code",
   "execution_count": 27,
   "metadata": {
    "ExecuteTime": {
     "end_time": "2021-06-15T18:44:28.660158Z",
     "start_time": "2021-06-15T18:44:28.647173Z"
    }
   },
   "outputs": [
    {
     "name": "stdout",
     "output_type": "stream",
     "text": [
      "29\n"
     ]
    }
   ],
   "source": [
    "# Q. Write a python program to implement index method using loop. If sub_str is found in my_str then it will print the index\n",
    "# of first occurrence of first character of matching string in my_str:-\n",
    "\n",
    "def find_str(str1,sub_str):\n",
    "    for count, i in enumerate(str1):\n",
    "        if str1[count:(count + len(sub_str))] == sub_str:\n",
    "            print(count)\n",
    "            break\n",
    "    \n",
    "# initialising input string\n",
    "str1 = 'Peter Piper Picked A Peck Of Pickled Peppers.'\n",
    "sub_str = 'Pickl'\n",
    "find_str(str1,sub_str)"
   ]
  },
  {
   "cell_type": "code",
   "execution_count": 45,
   "metadata": {
    "ExecuteTime": {
     "end_time": "2021-06-15T19:15:49.937114Z",
     "start_time": "2021-06-15T19:15:49.921337Z"
    }
   },
   "outputs": [
    {
     "data": {
      "text/plain": [
       "'Peter Diper Picked A Peck Of Pickled Peppers.'"
      ]
     },
     "execution_count": 45,
     "metadata": {},
     "output_type": "execute_result"
    }
   ],
   "source": [
    "# Q. Write a python program to implement replace method using loop. If sub_str is found in my_str then it will replace the first\n",
    "# occurrence of sub_str with new_str else it will will print sub_str not found:-\n",
    "# Input:- my_str = 'Peter Piper Picked A Peck Of Pickled Peppers.' ,\n",
    "# sub_str = 'Peck' , new_str = 'Pack'\n",
    "# Output:- 'Peter Piper Picked A Pack Of Pickled Peppers.'\n",
    "\n",
    "def replace_str(str1,sub_str):\n",
    "    out_str = ''\n",
    "    lst  = []\n",
    "    for count, i in enumerate(str1):\n",
    "        if str1[count:(count + len(sub_str))] == sub_str:\n",
    "            lst = list(range(count,(count + len(sub_str))))\n",
    "            sub_str_dict = dict(zip(lst,new_str))\n",
    "        if count in lst:\n",
    "                out_str += sub_str_dict[count]\n",
    "        else:\n",
    "            out_str += i\n",
    "    return out_str\n",
    "\n",
    "str1 = 'Peter Piper Picked A Peck Of Pickled Peppers.'\n",
    "sub_str = 'Piper'\n",
    "new_str = 'Dipers'\n",
    "replace_str(str1,sub_str)"
   ]
  },
  {
   "cell_type": "code",
   "execution_count": 56,
   "metadata": {
    "ExecuteTime": {
     "end_time": "2021-06-15T19:35:48.498377Z",
     "start_time": "2021-06-15T19:35:48.487966Z"
    }
   },
   "outputs": [
    {
     "data": {
      "text/plain": [
       "'*********************Peck************Peck*********'"
      ]
     },
     "execution_count": 56,
     "metadata": {},
     "output_type": "execute_result"
    }
   ],
   "source": [
    "# Q. Write a python program to find below output (implements rjust and ljust) using loop:-\n",
    "# Input:- 'Peter Piper Picked A Peck Of Pickled Peppers.' , sub_str ='Peck' ,\n",
    "# Output:- '*********************Peck********************'\n",
    "\n",
    "def rjust_ljust(str1,sub_str):\n",
    "    out_str = ''\n",
    "    lst = []\n",
    "    for count, i in enumerate(str1):\n",
    "        if str1[count:(count+(len(sub_str)))] == sub_str:\n",
    "            lst = list(range(count, count+(len(sub_str))))\n",
    "        if count in lst:\n",
    "            out_str += i\n",
    "        else:\n",
    "            out_str += '*'\n",
    "    return out_str\n",
    "            \n",
    "# initialising input string\n",
    "str1 = 'Peter Piper Picked A Peck Of Pickled Peck Peppers.'\n",
    "sub_str ='Peck'\n",
    "rjust_ljust(str1,sub_str)"
   ]
  },
  {
   "cell_type": "code",
   "execution_count": 89,
   "metadata": {
    "ExecuteTime": {
     "end_time": "2021-06-15T20:07:39.237361Z",
     "start_time": "2021-06-15T20:07:39.210583Z"
    }
   },
   "outputs": [
    {
     "data": {
      "text/plain": [
       "['This', ' is', ' Python class']"
      ]
     },
     "execution_count": 89,
     "metadata": {},
     "output_type": "execute_result"
    }
   ],
   "source": [
    "# Q. Write a python program to find below output using loop:-\n",
    "# Input:- 'This is Python class' , sep = ' is' ,\n",
    "# Output:- [ 'This' , 'is' , 'Python class' ]\n",
    "\n",
    "def split_str(str1, sep):\n",
    "    j = 0\n",
    "    lst = []\n",
    "    lst_element = ''\n",
    "    out_lst = []\n",
    "    for count, i in enumerate(str1):\n",
    "        if str1[count:(count+(len(sep)))] == sep:\n",
    "            lst = list(range(count,(count+(len(sep)))))\n",
    "\n",
    "        if count not in lst:\n",
    "            lst_element += i\n",
    "        else:\n",
    "            while j < 1:\n",
    "                out_lst.append(lst_element)\n",
    "                j += 1\n",
    "                lst_element = ''\n",
    "    out_lst.append(sep)\n",
    "    out_lst.append(lst_element)\n",
    "    return out_lst\n",
    "\n",
    "# initialising input string\n",
    "str1 = 'This is Python class'\n",
    "sep = ' is'\n",
    "split_str(str1,sep)"
   ]
  },
  {
   "cell_type": "code",
   "execution_count": null,
   "metadata": {},
   "outputs": [],
   "source": []
  }
 ],
 "metadata": {
  "kernelspec": {
   "display_name": "Python 3",
   "language": "python",
   "name": "python3"
  },
  "language_info": {
   "codemirror_mode": {
    "name": "ipython",
    "version": 3
   },
   "file_extension": ".py",
   "mimetype": "text/x-python",
   "name": "python",
   "nbconvert_exporter": "python",
   "pygments_lexer": "ipython3",
   "version": "3.8.5"
  }
 },
 "nbformat": 4,
 "nbformat_minor": 4
}
