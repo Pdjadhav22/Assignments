{
 "cells": [
  {
   "cell_type": "markdown",
   "metadata": {},
   "source": [
    "# Boolean Datatype assignemnt"
   ]
  },
  {
   "cell_type": "code",
   "execution_count": 1,
   "metadata": {},
   "outputs": [
    {
     "name": "stdout",
     "output_type": "stream",
     "text": [
      "Type of value is <class 'bool'> , ID of of value is 140713878476624\n"
     ]
    }
   ],
   "source": [
    "# Q-->> Declare a boolean value and store it in a variable, Check the type and print the id of the same.\n",
    "\n",
    "# Boolean value declared & stored in variable\n",
    "num1 = True\n",
    "\n",
    "# type & id checked\n",
    "print (f'Type of value is {type(num1)} , ID of of value is {id(num1)}')"
   ]
  },
  {
   "cell_type": "code",
   "execution_count": 3,
   "metadata": {},
   "outputs": [
    {
     "name": "stdout",
     "output_type": "stream",
     "text": [
      "140713878476624\n",
      "140713878476624\n",
      "Object reusablity works on Boolean\n"
     ]
    }
   ],
   "source": [
    "# Q-->>   Take one boolean value between 0 - 256., Assign it to two different variables.\n",
    "#         Check the id of both the variables. It should come the same. Check why?\n",
    "\n",
    "# Boolean value taken & Stored in varibales\n",
    "num1 = True\n",
    "num2 = True  # There are only 2 boolean values True or False\n",
    "\n",
    "print (id(num1))\n",
    "print (id(num2))\n",
    "print ( 'Object reusablity works on Boolean' if id(num1)==id(num2) else 'Object Reusability dosent work on Boolean')"
   ]
  },
  {
   "cell_type": "code",
   "execution_count": 14,
   "metadata": {},
   "outputs": [
    {
     "name": "stdout",
     "output_type": "stream",
     "text": [
      "Sum of boolean numbers: 1\n",
      "Difference of boolean numbers: 1\n",
      "Product of boolean numbers: 0\n",
      "Division of boolean numbers: 0.0\n",
      "Quotient of boolean numbers: 0\n",
      "Exponetial operation on boolean: 1\n"
     ]
    }
   ],
   "source": [
    "# Q-->>   Arithmetic Operations on boolean data , Take two different boolean values, Store them in two different variables.\n",
    "#         Do below operations on them:-\n",
    "\n",
    "# Boolean values declared in variables\n",
    "num1 = True     # Represents value as 1\n",
    "num2 = False    # Represents value as 2\n",
    "\n",
    "# performing arithmetic operations on boolean data type\n",
    "print (f'Sum of boolean numbers: {num1 + num2}')\n",
    "print (f'Difference of boolean numbers: {num1 - num2}')\n",
    "print (f'Product of boolean numbers: {num1 * num2}')\n",
    "print (f'Division of boolean numbers: {num2 / num1}')   # num1 /num2 calls for 1/0 operation, gives Zero Division Error\n",
    "print (f'Quotient of boolean numbers: {num2 // num1}')  # num1 /num2 calls for 1/0 operation, gives Zero Division Error\n",
    "print (f'Exponetial operation on boolean: {num1 ** num2}')  # anything to the power of 0 is 1."
   ]
  },
  {
   "cell_type": "code",
   "execution_count": 19,
   "metadata": {},
   "outputs": [
    {
     "name": "stdout",
     "output_type": "stream",
     "text": [
      "True Greater than False: True\n",
      "True less than False: False\n",
      "True Greater than equal to False: True\n",
      "True less than equal to False: False\n"
     ]
    }
   ],
   "source": [
    "# Q-->>   Comparison Operators on boolean values, Take two different boolean values., Store them in two different variables.\n",
    "#         Do below operations on them:-\n",
    "#         Compare these two values with below operator:-\n",
    "#         Greater than, '>'\n",
    "#         less than, '<'\n",
    "#         Greater than or equal to, '>='\n",
    "#         Less than or equal to, '<='\n",
    "#         Observe their output(return type should be boolean)\n",
    "\n",
    "# Boolean values declared in variables\n",
    "num1 = True\n",
    "num2 = False\n",
    "\n",
    "# Comparison operations on Boolean numbers\n",
    "print (f'True Greater than False: {num1 > num2}')\n",
    "print (f'True less than False: {num1 < num2}')\n",
    "print (f'True Greater than equal to False: {num1 >= num2}')\n",
    "print (f'True less than equal to False: {num1 <= num2}')"
   ]
  },
  {
   "cell_type": "code",
   "execution_count": 21,
   "metadata": {},
   "outputs": [
    {
     "name": "stdout",
     "output_type": "stream",
     "text": [
      "True equal to False: False\n",
      "True not equal to False: True\n"
     ]
    }
   ],
   "source": [
    "# Q-->>   Equality Operator, Take two different boolean values, Store them in two different variables.\n",
    "#         Equate them using equality operators (==, !=), Observe the output(return type should be boolean)\n",
    "\n",
    "# Boolean values declared in variables\n",
    "num1 = True\n",
    "num2 = False\n",
    "\n",
    "# Equality operator on Boolean datatype\n",
    "print (f'True equal to False: {num1 == num2}')\n",
    "print (f'True not equal to False: {num1 != num2}')"
   ]
  },
  {
   "cell_type": "code",
   "execution_count": 22,
   "metadata": {},
   "outputs": [
    {
     "name": "stdout",
     "output_type": "stream",
     "text": [
      "True\n",
      "False\n",
      "False\n",
      "False\n",
      "True\n",
      "True\n",
      "True\n",
      "False\n",
      "False\n",
      "True\n"
     ]
    }
   ],
   "source": [
    "# Q-->> Logical operators, Observe the output of below code, Cross check the output manually\n",
    "\n",
    "print ( True and True )    # Output is True\n",
    "# as per and Truth table, if both values are True then Ouptut is True.\n",
    "\n",
    "print ( False and True )   # Output is False\n",
    "# as per and truth table, if any one value is False then output is False.\n",
    "\n",
    "print ( True and False )   # Output is False\n",
    "# as per and truth table, if any one value is False then Output is False.\n",
    "\n",
    "print ( False and False )  # Output is False\n",
    "# as per and truth table, if any one value is False then Output is False.\n",
    "\n",
    "print ( True or True )     # Output is True\n",
    "# as per or truth table, if any one value is True then output is True.\n",
    "\n",
    "print ( False or True )    # Output is True\n",
    "# as per or truth table, if any one value is True then output is True.\n",
    "\n",
    "print ( True or False )    # Output is True\n",
    "# as per or truth table, if any one value is True then output is True.\n",
    "\n",
    "print ( False or False )   # Output is False\n",
    "# as per or truth table, if both values are False then ouput is False.\n",
    "\n",
    "print ( not True )         # Output is False\n",
    "# not gives output False if value is True.\n",
    "\n",
    "print ( not False )        # Output is True\n",
    "# not gives output True if value is False"
   ]
  },
  {
   "cell_type": "code",
   "execution_count": 32,
   "metadata": {},
   "outputs": [
    {
     "name": "stdout",
     "output_type": "stream",
     "text": [
      "True\n",
      "True\n",
      "True\n",
      "-2\n",
      "4\n",
      "0\n"
     ]
    }
   ],
   "source": [
    "#Q-->>    Bitwise Operators, Do below operations on the values provided below:-\n",
    "#         Bitwise and(&) --------------> True, True -------> Output is True\n",
    "#         Bitwise or(|) --------------> True, False -------> Output is True\n",
    "#         Bitwise(^) --------------> True, False -------> Output is True\n",
    "#         Bitwise negation(~) ---------> True -------> Output is -2\n",
    "#         Bitwise left shift ---------> True,2 -------> Output is 4\n",
    "#         Bitwise right shift ---------> True,2 -------> Output is 0\n",
    "#         Cross check the output manually\n",
    "\n",
    "print ( True & True)\n",
    "# True ---> 1 --> bin(1)---> 1\n",
    "# True ---> 1 --> bin(1)---> 1\n",
    "# True & True --> 1 & 1 ---> 1---> output is True\n",
    "\n",
    "print (True | False)\n",
    "# False ---> 0 --> bin(0) ---> 0\n",
    "# True ---> 1 ---> bin(1) ---> 1\n",
    "# True | False --> 1 | 0 ----> 1 ---> Output is True.\n",
    "\n",
    "print (True ^ False)\n",
    "# True ---> 1 --> bin(1) ---> 1\n",
    "# False --> 0 --> bin(0) ---> 0\n",
    "# True ^ False -> 1 ^ 0 ----> 1 ----> Output is True\n",
    "\n",
    "print (~True)\n",
    "# True ---> 1\n",
    "# ~True --> (True +1) *-1 --> (1+1)*-1 --> -2 ---Output\n",
    "\n",
    "print (True << 2)\n",
    "# True --> 1 --> bin(1)--> 0b1\n",
    "# True << 2 ---> 0b100 --> 4 --- Output\n",
    "\n",
    "print (True >> 2)\n",
    "# True --> 1 --> bin(1) --> 0b1\n",
    "# True >> 2 ---> 0b00   --> 0 --- Output"
   ]
  },
  {
   "cell_type": "code",
   "execution_count": 30,
   "metadata": {},
   "outputs": [
    {
     "data": {
      "text/plain": [
       "4"
      ]
     },
     "execution_count": 30,
     "metadata": {},
     "output_type": "execute_result"
    }
   ],
   "source": [
    "0b100"
   ]
  },
  {
   "cell_type": "code",
   "execution_count": 35,
   "metadata": {},
   "outputs": [
    {
     "name": "stdout",
     "output_type": "stream",
     "text": [
      "True\n",
      "False\n",
      "140713878476624\n",
      "140713878476624\n",
      "True\n",
      "False\n",
      "140713878476656\n",
      "140713878476656\n"
     ]
    }
   ],
   "source": [
    "# Q-->>   What is the output of expression inside the print statement. Cross\n",
    "#         check before running the program.\n",
    "#         a = True\n",
    "#         b = True\n",
    "#         print (a is b) #True or False? #\n",
    "#         print (a is not b) #True or False?\n",
    "#         a = False\n",
    "#         b = False\n",
    "#         print (a is b) #True or False?\n",
    "#         print (a is not b) #True or False?\n",
    "\n",
    "a = True\n",
    "b = True\n",
    "\n",
    "print ( a is b)\n",
    "print (a is not b)\n",
    "# as object reusability works for boolean data type, True will have same id even if variables are different.\n",
    "print (id(a))\n",
    "print (id(b))\n",
    "# as both variables point to same id of True, so a is b ----> True.\n",
    "# a is not b --> False\n",
    "\n",
    "a = False\n",
    "b = False\n",
    "print (a is b)\n",
    "print (a is not b)\n",
    "print (id(a))\n",
    "print (id(b))\n",
    "# as both variables point to same id of False, so a is b ----> True.\n",
    "# a is not b ---> False"
   ]
  },
  {
   "cell_type": "code",
   "execution_count": 36,
   "metadata": {},
   "outputs": [
    {
     "name": "stdout",
     "output_type": "stream",
     "text": [
      "True\n",
      "True\n",
      "True\n",
      "True\n",
      "True\n"
     ]
    }
   ],
   "source": [
    "# Q-->> Membership operation,  in, not in are two membership operators and it returns boolean value\n",
    "\n",
    "print ( True in [ 10 , 10.20 , 10 + 20j , 'Python' , True ])   # True is present in given list - Output ---> True\n",
    "print ( False in ( 10 , 10.20 , 10 + 20j , 'Python' , False )) # False is present in given tuple - Ouput --> True\n",
    "print ( True in { 1 , 2 , 3 , True })                          # True is present in given set -- Output ---> True\n",
    "print ( True in { True : 100 , False : 200 , True : 300 })     # True is present in Given Dict -- Output --> True\n",
    "print ( False in { True : 100 , False : 200 , True : 300 })    # False is presents in given dict-- outout --> True"
   ]
  },
  {
   "cell_type": "code",
   "execution_count": null,
   "metadata": {},
   "outputs": [],
   "source": []
  }
 ],
 "metadata": {
  "kernelspec": {
   "display_name": "Python 3",
   "language": "python",
   "name": "python3"
  },
  "language_info": {
   "codemirror_mode": {
    "name": "ipython",
    "version": 3
   },
   "file_extension": ".py",
   "mimetype": "text/x-python",
   "name": "python",
   "nbconvert_exporter": "python",
   "pygments_lexer": "ipython3",
   "version": "3.8.5"
  }
 },
 "nbformat": 4,
 "nbformat_minor": 4
}
