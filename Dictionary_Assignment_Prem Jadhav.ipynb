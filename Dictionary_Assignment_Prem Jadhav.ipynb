{
 "cells": [
  {
   "cell_type": "code",
   "execution_count": 4,
   "metadata": {
    "ExecuteTime": {
     "end_time": "2021-06-08T15:02:13.415017Z",
     "start_time": "2021-06-08T15:02:13.404062Z"
    }
   },
   "outputs": [
    {
     "name": "stdout",
     "output_type": "stream",
     "text": [
      "{'email': 'tom_latham019@gmail.com', 'Phone': '+1987654321', 'City': 'California'}\n",
      "{'email': 'kathy_abram897@gmail.com', 'Phone': '+1887654321', 'City': 'New York'}\n"
     ]
    }
   ],
   "source": [
    "# Initialize a dictionary \"emp_info\" with below details\n",
    "# In - emp_info['Tom']\n",
    "# Out - {'email':'tom_latham019@gmail.com', 'Phone': +1987654321, 'City': 'California'}\n",
    "\n",
    "# In - emp_info['Kathy']\n",
    "# Out - {'email':'kathy_abram897@gmail.com', 'Phone': +1887654321, 'City': 'New York'}\n",
    "\n",
    "\n",
    " # initializing emp_info of Tom & Kathy\n",
    "emp_info = {'Tom' : {'email' : 'tom_latham019@gmail.com' , 'Phone' : '+1987654321', 'City' : 'California'} , \n",
    "            'Kathy' : {'email' : 'kathy_abram897@gmail.com' , 'Phone' : '+1887654321' , 'City' : 'New York'}}\n",
    "\n",
    "# getting desired value from key\n",
    "print (emp_info['Tom'])\n",
    "print (emp_info['Kathy'])"
   ]
  },
  {
   "cell_type": "code",
   "execution_count": 64,
   "metadata": {
    "ExecuteTime": {
     "end_time": "2021-06-08T17:23:19.410441Z",
     "start_time": "2021-06-08T17:23:19.390809Z"
    }
   },
   "outputs": [
    {
     "data": {
      "text/plain": [
       "{'emp1': {'e_name': 'John', 'e_id': 'SG101', 'e_sal': '$10,000'},\n",
       " 'emp2': {'e_name': 'Smith', 'e_id': 'SG102', 'e_sal': '$9,000'},\n",
       " 'emp3': {'e_name': 'Peter', 'e_id': 'SG103', 'e_sal': '$9,500'}}"
      ]
     },
     "execution_count": 64,
     "metadata": {},
     "output_type": "execute_result"
    }
   ],
   "source": [
    "# Create a dictionary out of below inputs\n",
    "# lst1 = ['emp1', 'emp2', 'emp3']\n",
    "# emp_key = ['e_name', 'e_id', 'e_sal']\n",
    "# emp1_val = ['John', 'SG101', '$10,000']\n",
    "# emp2_val = ['Smith', 'SG102', '$9,000']\n",
    "# emp3_val = ['Peter', 'SG103', '$9,500']\n",
    "\n",
    "# Expected Output:- {'emp1':{'e_name':'John', 'e_id':'SG101', 'e_sal':$10,000}, \n",
    "#                    'emp2':{'e_name':'Smith', 'e_id':'SG102', 'e_sal':$9,000}, \n",
    "#                    'emp3':{'e_name':'Peter', 'e_id':'SG103', 'e_sal':$9,500}}\n",
    "\n",
    "# Given input Dictionary\n",
    "lst1 = ['emp1', 'emp2', 'emp3']\n",
    "emp_key = ['e_name', 'e_id', 'e_sal']\n",
    "emp1_val = ['John', 'SG101', '$10,000']\n",
    "emp2_val = ['Smith', 'SG102', '$9,000']\n",
    "emp3_val = ['Peter', 'SG103', '$9,500']\n",
    "\n",
    "# zipping emp. details to get a tupple in form of key value pair after converting to dictionary\n",
    "emp1_details = dict(zip (emp_key,emp1_val))\n",
    "emp2_details = dict(zip(emp_key,emp2_val))\n",
    "emp3_details = dict(zip(emp_key,emp3_val))\n",
    "\n",
    "# creating dictionary with emp details & name\n",
    "emp_info = {lst1[0]:emp1_details, lst1[1]:emp2_details, lst1[2]:emp3_details}\n",
    "emp_info"
   ]
  },
  {
   "cell_type": "code",
   "execution_count": 68,
   "metadata": {
    "ExecuteTime": {
     "end_time": "2021-06-08T17:27:44.978236Z",
     "start_time": "2021-06-08T17:27:44.962942Z"
    }
   },
   "outputs": [
    {
     "data": {
      "text/plain": [
       "80"
      ]
     },
     "execution_count": 68,
     "metadata": {},
     "output_type": "execute_result"
    }
   ],
   "source": [
    "# Acess the value of key 'history'\n",
    "\n",
    "# Input dictonary\n",
    "sampleDict = { \"class\":{\"student\":{\"name\":\"Mike\", \"marks\":{ \"physics\":70,\"history\":80}}}}\n",
    "\n",
    "# to access key 'history'\n",
    "sampleDict[\"class\"][\"student\"][\"marks\"][\"history\"]"
   ]
  },
  {
   "cell_type": "code",
   "execution_count": 21,
   "metadata": {
    "ExecuteTime": {
     "end_time": "2021-06-09T15:56:27.459011Z",
     "start_time": "2021-06-09T15:56:27.442720Z"
    }
   },
   "outputs": [
    {
     "data": {
      "text/plain": [
       "{'Kelly': {'designation': 'Application Developer', 'salary': 8000},\n",
       " 'Emma': {'designation': 'Application Developer', 'salary': 8000},\n",
       " 'John': {'designation': 'Application Developer', 'salary': 8000}}"
      ]
     },
     "execution_count": 21,
     "metadata": {},
     "output_type": "execute_result"
    }
   ],
   "source": [
    "# Initialize dictionary with default values. Inputs are:-\n",
    "# employees = ['Kelly', 'Emma', 'John']\n",
    "# defaults = {\"designation\": 'Application Developer', \"salary\": 8000}\n",
    "\n",
    "#Expected output:- {'Kelly': {'designation': 'Application Developer', 'salary': 8000}, \n",
    "#                   'Emma': {'designation': 'Application Developer', 'salary': 8000}, \n",
    "#                  'John': {'designation': 'Application Developer', 'salary': 8000}}\n",
    "\n",
    "\n",
    "employees = ['Kelly', 'Emma', 'John']\n",
    "defaults = {\"designation\": 'Application Developer', \"salary\": 8000}\n",
    "\n",
    "# empty dict to store ky value pair\n",
    "emp_info = {}\n",
    "\n",
    "# loooping through list to make key value pair with default dictionary & updating in empty dictionary\n",
    "for i in employees:\n",
    "    emp_info.update({i:defaults})\n",
    "emp_info\n",
    "\n",
    "# using fromkeys method for dictonary\n",
    "emp_info1 = {}\n",
    "emp_info1 = emp_info1.fromkeys(employees, defaults)\n",
    "emp_info1"
   ]
  },
  {
   "cell_type": "code",
   "execution_count": 89,
   "metadata": {
    "ExecuteTime": {
     "end_time": "2021-06-08T18:03:17.198864Z",
     "start_time": "2021-06-08T18:03:17.189036Z"
    }
   },
   "outputs": [
    {
     "name": "stdout",
     "output_type": "stream",
     "text": [
      "{DNA : RNA}-->  {'A': 'U', 'T': 'A', 'C': 'G', 'G': 'C'}\n"
     ]
    },
    {
     "data": {
      "text/plain": [
       "'U'"
      ]
     },
     "execution_count": 89,
     "metadata": {},
     "output_type": "execute_result"
    }
   ],
   "source": [
    "# In gene expression, mRNA is transcribed from a DNA template. \n",
    "# The 4 nucleotide bases of A, T, C, G corresponds to the U, A, G, C bases of the mRNA. \n",
    "# Write a function that returns the mRNA transcript given the sequence of a DNA strand.\n",
    "\n",
    "# Use a dictionary to provide the mapping of DNA to RNA bases.\n",
    "\n",
    "# Initialize tuple for DNA & mRNA stands\n",
    "DNA = ('A', 'T', 'C', 'G')\n",
    "RNA = ('U', 'A', 'G', 'C')\n",
    "\n",
    "# Zipping above tuples to get tuole in form of Key value.\n",
    "gene_dict = dict(zip(DNA,RNA))\n",
    "print('{DNA : RNA}--> ', gene_dict)\n",
    "gene_dict['A']"
   ]
  },
  {
   "cell_type": "code",
   "execution_count": 110,
   "metadata": {
    "ExecuteTime": {
     "end_time": "2021-06-08T18:34:22.267032Z",
     "start_time": "2021-06-08T18:34:10.644162Z"
    }
   },
   "outputs": [
    {
     "name": "stdout",
     "output_type": "stream",
     "text": [
      "Enter any word: pepper.com\n"
     ]
    },
    {
     "data": {
      "text/plain": [
       "{'p': 3, 'e': 2, 'r': 1, '.': 1, 'c': 1, 'o': 1, 'm': 1}"
      ]
     },
     "execution_count": 110,
     "metadata": {},
     "output_type": "execute_result"
    }
   ],
   "source": [
    "# Write a function which takes a word as input and returns a dictionary with letters as key and no of time letters are repeated as value.\n",
    "# In - count_letter('google.com')\n",
    "# Out - {'g': 2, 'o': 3, 'l': 1, 'e': 1, '.': 1, 'c': 1, 'm': 1}\n",
    "\n",
    "# getting user input word\n",
    "str1 = input('Enter any word: ')\n",
    "\n",
    "# empty list to store non duplicate letters\n",
    "new_lst = []\n",
    "lst = [new_lst.append(i) for i in str1 if i not in new_lst]\n",
    "\n",
    "# list comprehension to get count of letter in given word\n",
    "count_lst = [str1.count(ele) for ele in new_lst]\n",
    "\n",
    "# zipping both lsits to get in form of key value pair.\n",
    "dict(zip(new_lst,count_lst))"
   ]
  },
  {
   "cell_type": "code",
   "execution_count": 114,
   "metadata": {
    "ExecuteTime": {
     "end_time": "2021-06-08T18:42:01.897888Z",
     "start_time": "2021-06-08T18:41:52.262138Z"
    }
   },
   "outputs": [
    {
     "name": "stdout",
     "output_type": "stream",
     "text": [
      "Enter Base composition: AGT\n"
     ]
    },
    {
     "data": {
      "text/plain": [
       "{'A': 1, 'C': 0, 'T': 1, 'G': 1}"
      ]
     },
     "execution_count": 114,
     "metadata": {},
     "output_type": "execute_result"
    }
   ],
   "source": [
    "# A DNA strand consisting of the 4 nucleotide bases is usually represented with a string of letters: A,T, C, G. \n",
    "# Write a function that computes the base composition of a given DNA sequence.\n",
    "\n",
    "# In - baseComposition(\"CTATCGGCACCCTTTCAGCA\")\n",
    "# Out - {'A': 4, 'C': 8, 'T': 5,  'G': 3 }\n",
    "    \n",
    "# In - baseComposition(\"AGT\")\n",
    "# Out - {'A': 1, 'C': 0, 'T': 1,  'G': 1 }\n",
    "\n",
    "# initializing input base compositions\n",
    "base_comp = input('Enter Base composition: ')\n",
    "\n",
    "# tuple for 4 nucleotides bases\n",
    "nuc_base = ('A', 'C', 'T', 'G')\n",
    "\n",
    "out_lst = [base_comp.count(i) for i in nuc_base]\n",
    "\n",
    "dict(zip(nuc_base,out_lst))"
   ]
  },
  {
   "cell_type": "code",
   "execution_count": null,
   "metadata": {
    "ExecuteTime": {
     "end_time": "2021-06-09T15:09:09.886086Z",
     "start_time": "2021-06-09T15:09:09.860442Z"
    }
   },
   "outputs": [],
   "source": [
    "# [MCQ] Suppose \"d\" is an empty dictionary, which statement does not assign \"d\" with {\"Name\":\"Tom\"}? \n",
    "# 1. d = {\"Name\": \"Tom\" }\n",
    "# 2. d[\"Name\"] = \"Tom\"\n",
    "# 3. d.update({\"Name\": \"Tom\" })\n",
    "# 4. d.setdefault(\"Name\", \"Tom\")\n",
    "# 5. None of the above.\n",
    "\n",
    "# Ans - 5.None of the above\n",
    "    # as all 1 to 4 ways can assign d with {\"Name\":\"Tom\"}\n",
    "    "
   ]
  },
  {
   "cell_type": "code",
   "execution_count": null,
   "metadata": {
    "ExecuteTime": {
     "end_time": "2021-06-09T15:12:47.489644Z",
     "start_time": "2021-06-09T15:12:47.472170Z"
    }
   },
   "outputs": [],
   "source": [
    "# [MCQ] d = {\"a\":1, \"b\":2}. Which of the statements returns [1,2]? \n",
    "# 1. d.keys()\n",
    "# 2. d.values()\n",
    "# 3. d.items()\n",
    "# 4. d.popitem()\n",
    "# 5. None of the above.\n",
    "\n",
    "# Ans - 5. None of the above "
   ]
  },
  {
   "cell_type": "code",
   "execution_count": 12,
   "metadata": {
    "ExecuteTime": {
     "end_time": "2021-06-09T15:16:31.636515Z",
     "start_time": "2021-06-09T15:16:31.630021Z"
    }
   },
   "outputs": [],
   "source": [
    "# [MCQ] Which of the following declarations is not valid for 'dict' type?\n",
    "# 1. d = {\"Name\": \"Tom\" }\n",
    "# 2. d = { (1,3,4): 4.5 }\n",
    "# 3. d = { [\"First\", \"Last\"]: (1,3) }\n",
    "# 4. d = { 1: 0.4 }\n",
    "# 5. None of the above\n",
    "\n",
    "# d = { [\"First\", \"Last\"]: (1,3) }   \n",
    "# as list is mutable & key value has the porp. of immutable, so list can't be a Key value"
   ]
  },
  {
   "cell_type": "code",
   "execution_count": 64,
   "metadata": {
    "ExecuteTime": {
     "end_time": "2021-06-09T17:03:43.737878Z",
     "start_time": "2021-06-09T17:03:43.717816Z"
    }
   },
   "outputs": [
    {
     "name": "stdout",
     "output_type": "stream",
     "text": [
      "['b', 'c']\n"
     ]
    }
   ],
   "source": [
    "# Write a function reverseLookup(dictionary, value) that takes in a dictionary \n",
    "# and a value as arguments and returns a sorted list of all keys that contains the value. \n",
    "# The function will return an empty list if no match is found.\n",
    "\n",
    "# In - reverseLookup({'a':1, 'b':2, 'c':2}, 1)\n",
    "# Out - ['a']\n",
    "# In - reverseLookup({'a':1, 'b':2, 'c':2}, 2)\n",
    "# Out - ['b', 'c']\n",
    "# In - reverseLookup({'a':1, 'b':2, 'c':2}, 3)\n",
    "# Out - []\n",
    "\n",
    "# Function program\n",
    "def reverseLookup (dictionary, value):\n",
    "   \n",
    "    # getting items of dictonary in form of list\n",
    "    item_lst = list(dictionary.items())\n",
    "    \n",
    "    # iterating through item_lst to check key having the given values\n",
    "    out_lst = [i[0] for i in item_lst if value in i]\n",
    "      \n",
    "    # output list is sorted using .sort\n",
    "    out_lst.sort()\n",
    "    print (out_lst)\n",
    "    \n",
    "# Drivers program\n",
    "reverseLookup({'a':1, 'b':2, 'c':2}, 2)"
   ]
  },
  {
   "cell_type": "code",
   "execution_count": 69,
   "metadata": {
    "ExecuteTime": {
     "end_time": "2021-06-10T16:05:08.592818Z",
     "start_time": "2021-06-10T16:05:08.580072Z"
    }
   },
   "outputs": [
    {
     "name": "stdout",
     "output_type": "stream",
     "text": [
      "{2: ['a', 'c'], 1: ['b', 'd']}\n"
     ]
    }
   ],
   "source": [
    "# Write a function invertDictionary(d) that takes in a dictionary as argument and return a dictionary that inverts the keys and the values of the original dictionary.\n",
    "# In - invertDictionary({'a':1, 'b':2, 'c':3, 'd':2})\n",
    "# Out - {1: ['a'], 2: ['b', 'd'], 3: ['c']}\n",
    "# In - invertDictionary({'a':3, 'b':3, 'c':3})\n",
    "# Out - {3: ['a', 'c', 'b']}\n",
    "# In - invertDictionary({'a':2, 'b':1, 'c':2, 'd':1})\n",
    "# Out - {1: ['b', 'd'], 2: ['a', 'c']}\n",
    "\n",
    "# Function prog.\n",
    "def invertDictionary(d):\n",
    "    # getting item & value list from input dictionary\n",
    "    lst_item = list(d.items())\n",
    "    lst_val = list(d.values())\n",
    "    \n",
    "    # empty lsit to store matrix in desired format\n",
    "    out_lst = []\n",
    "    for i in lst_item:\n",
    "            out_lst1 = []\n",
    "            for j in lst_item:\n",
    "                if i[1] == j[1]:\n",
    "                    out_lst1.append(j[0])\n",
    "            if out_lst1 not in out_lst:\n",
    "                out_lst.append(out_lst1)\n",
    "    out_dict = dict(zip(lst_val,out_lst))\n",
    "    print (out_dict)\n",
    "\n",
    "# Driver's Prog.    \n",
    "invertDictionary({'a':2, 'b':1, 'c':2, 'd':1})"
   ]
  },
  {
   "cell_type": "code",
   "execution_count": 99,
   "metadata": {
    "ExecuteTime": {
     "end_time": "2021-06-09T18:27:41.832141Z",
     "start_time": "2021-06-09T18:27:41.826471Z"
    }
   },
   "outputs": [
    {
     "name": "stdout",
     "output_type": "stream",
     "text": [
      "{0: 1, 2: 1, 4: 2, 6: 1, 9: 1}\n"
     ]
    }
   ],
   "source": [
    "# Write a function that converts a sparse vector into a dictionary as described above.\n",
    "# In - convertVector([1, 0, 0, 2, 0, 0, 0, 3, 0, 0, 0, 0, 4])\n",
    "# Out - {0: 1, 3: 2, 7: 3, 12: 4}\n",
    "# In - convertVector([1, 0, 1 , 0, 2, 0, 1, 0, 0, 1, 0])\n",
    "# Out - {0: 1, 2: 1, 4: 2, 6: 1, 9: 1}\n",
    "# In - convertVector([0, 0, 0, 0, 0])\n",
    "# Out - {}\n",
    "\n",
    "# Function prog.\n",
    "def convertVector(lst):\n",
    "    out_dict = {}\n",
    "    for count, i in enumerate(lst):\n",
    "        if i != 0:\n",
    "            out_dict.setdefault( count , i)\n",
    "    print (out_dict)\n",
    "    \n",
    "# Drivers Prog.\n",
    "convertVector([1, 0, 1 , 0, 2, 0, 1, 0, 0, 1, 0])"
   ]
  },
  {
   "cell_type": "code",
   "execution_count": 17,
   "metadata": {
    "ExecuteTime": {
     "end_time": "2021-06-10T14:57:33.697560Z",
     "start_time": "2021-06-10T14:57:33.690580Z"
    }
   },
   "outputs": [
    {
     "name": "stdout",
     "output_type": "stream",
     "text": [
      "[1, 0, 1, 0, 2, 0, 1, 0, 0, 1]\n"
     ]
    }
   ],
   "source": [
    "# Write a function that converts a dictionary back to its sparse vector representation.\n",
    "# In - convertDictionary({0: 1, 3: 2, 7: 3, 12: 4})\n",
    "# Out - [1, 0, 0, 2, 0, 0, 0, 3, 0, 0, 0, 0, 4]\n",
    "# In - convertDictionary({0: 1, 2: 1, 4: 2, 6: 1, 9: 1})\n",
    "# Out - [1, 0, 1, 0, 2, 0, 1, 0, 0, 1]\n",
    "# In - convertDictionary({})\n",
    "# Out - []\n",
    "\n",
    "# Function prog.\n",
    "def convertDictionary(d):\n",
    "    # converting dict into list using .items()\n",
    "    lst_dict = list(d.items())\n",
    "\n",
    "    # checking if dictionary is empty or not\n",
    "    if len(lst_dict) > 0 :\n",
    "        # # Getting max value to decide out_lst lenght\n",
    "        lst_len = max(lst_dict)[0]\n",
    "\n",
    "        # creating out lst with all 0 values\n",
    "        out_lst = [0 for i in range(lst_len + 1)]\n",
    "\n",
    "        # assining values at specfic index based on input dictionary\n",
    "        if len(out_lst) > 0 :\n",
    "            for j in lst_dict:\n",
    "                out_lst[j[0]] = j[1]\n",
    "\n",
    "        print (out_lst)\n",
    "    else:\n",
    "        print (lst_dict)\n",
    "\n",
    "# Driver's Prog.\n",
    "convertDictionary({0: 1, 2: 1, 4: 2, 6: 1, 9: 1})"
   ]
  },
  {
   "cell_type": "code",
   "execution_count": 18,
   "metadata": {
    "ExecuteTime": {
     "end_time": "2021-06-10T15:00:23.728406Z",
     "start_time": "2021-06-10T15:00:23.713012Z"
    }
   },
   "outputs": [
    {
     "data": {
      "text/plain": [
       "{'emp1': {'name': 'Jhon', 'salary': 7500},\n",
       " 'emp2': {'name': 'Emma', 'salary': 8000},\n",
       " 'emp3': {'name': 'Brad', 'salary': 8500}}"
      ]
     },
     "execution_count": 18,
     "metadata": {},
     "output_type": "execute_result"
    }
   ],
   "source": [
    "# Given a Python dictionary, Change Brad’s salary to 8500\n",
    "# sampleDict = {\n",
    "#      'emp1': {'name': 'Jhon', 'salary': 7500},\n",
    "#      'emp2': {'name': 'Emma', 'salary': 8000},\n",
    "#      'emp3': {'name': 'Brad', 'salary': 6500}\n",
    "# }\n",
    "\n",
    "# Expected Output\n",
    "# sampleDict = {\n",
    "#      'emp1': {'name': 'Jhon', 'salary': 7500},\n",
    "#      'emp2': {'name': 'Emma', 'salary': 8000},\n",
    "#      'emp3': {'name': 'Brad', 'salary': 8500}\n",
    "# }\n",
    "\n",
    "sampleDict = {\n",
    "     'emp1': {'name': 'Jhon', 'salary': 7500},\n",
    "     'emp2': {'name': 'Emma', 'salary': 8000},\n",
    "     'emp3': {'name': 'Brad', 'salary': 6500}\n",
    "}\n",
    "\n",
    "sampleDict['emp3']['salary'] = 8500\n",
    "\n",
    "sampleDict"
   ]
  },
  {
   "cell_type": "code",
   "execution_count": 27,
   "metadata": {
    "ExecuteTime": {
     "end_time": "2021-06-10T15:07:12.784507Z",
     "start_time": "2021-06-10T15:07:12.771385Z"
    }
   },
   "outputs": [
    {
     "name": "stdout",
     "output_type": "stream",
     "text": [
      "Math\n"
     ]
    }
   ],
   "source": [
    "# Get the key corresponding to the minimum value from the following dictionary\n",
    "# sampleDict = {\n",
    "#   'Physics': 82,\n",
    "#   'Math': 65,\n",
    "#   'history': 75\n",
    "# }\n",
    "\n",
    "# Expected Output\n",
    "# Math\n",
    "\n",
    "# input dictionary\n",
    "sampleDict = {\n",
    "  'Physics': 82,\n",
    "  'Math': 65,\n",
    "  'history': 75\n",
    "}\n",
    "\n",
    "# getting keys & values list\n",
    "lst_key = list(sampleDict.keys())\n",
    "lst_val = list(sampleDict.values())\n",
    "\n",
    "# revering key values pair\n",
    "rev_dict = list(zip(lst_val,lst_key))\n",
    "\n",
    "# getting key with min. value\n",
    "min(rev_dict)\n",
    "print(min(rev_dict)[1])"
   ]
  },
  {
   "cell_type": "code",
   "execution_count": 38,
   "metadata": {
    "ExecuteTime": {
     "end_time": "2021-06-10T15:25:50.500733Z",
     "start_time": "2021-06-10T15:25:50.492816Z"
    }
   },
   "outputs": [
    {
     "name": "stdout",
     "output_type": "stream",
     "text": [
      "{'name': 'Kelly', 'age': 25, 'salary': 8000, 'Location': 'New york'}\n"
     ]
    }
   ],
   "source": [
    "# Rename key city to location in the following dictionary\n",
    "# sampleDict = {\n",
    "#   \"name\": \"Kelly\",\n",
    "#   \"age\":25,\n",
    "#   \"salary\": 8000,\n",
    "#   \"city\": \"New york\"\n",
    "# }\n",
    "\n",
    "# Expected Output\n",
    "# {\n",
    "#   \"name\": \"Kelly\",\n",
    "#   \"age\":25,\n",
    "#   \"salary\": 8000,\n",
    "#   \"location\": \"New york\"\n",
    "# }\n",
    "\n",
    "sampleDict = {\n",
    "  \"name\": \"Kelly\",\n",
    "  \"age\":25,\n",
    "  \"salary\": 8000,\n",
    "  \"city\": \"New york\"\n",
    "}\n",
    "\n",
    "# getting list of keys & values from input dictionary\n",
    "lst_key = list(sampleDict.keys())\n",
    "lst_val = list(sampleDict.values())\n",
    "\n",
    "# changing city to Location\n",
    "lst_key [lst_key.index(\"city\")] = \"Location\"\n",
    "\n",
    "out_dict = dict(zip(lst_key,lst_val))\n",
    "print (out_dict)"
   ]
  },
  {
   "cell_type": "code",
   "execution_count": 40,
   "metadata": {
    "ExecuteTime": {
     "end_time": "2021-06-10T15:30:46.468475Z",
     "start_time": "2021-06-10T15:30:46.463368Z"
    }
   },
   "outputs": [
    {
     "data": {
      "text/plain": [
       "True"
      ]
     },
     "execution_count": 40,
     "metadata": {},
     "output_type": "execute_result"
    }
   ],
   "source": [
    "# Check if a value 200 exists in a dictionary\n",
    "# sampleDict = {'a': 100, 'b': 200, 'c': 300}\n",
    "\n",
    "# Expected Output: True\n",
    "\n",
    "sampleDict = {'a': 100, 'b': 200, 'c': 300}\n",
    "\n",
    "# Getting list of values\n",
    "lst_value = list(sampleDict.values())\n",
    "\n",
    "# checking if 200 present in dictonary\n",
    "200 in lst_value"
   ]
  },
  {
   "cell_type": "code",
   "execution_count": 41,
   "metadata": {
    "ExecuteTime": {
     "end_time": "2021-06-10T15:35:20.584100Z",
     "start_time": "2021-06-10T15:35:20.565454Z"
    }
   },
   "outputs": [
    {
     "name": "stdout",
     "output_type": "stream",
     "text": [
      "{'age': 25, 'city': 'New york'}\n"
     ]
    }
   ],
   "source": [
    "# Delete set of keys from Python Dictionary\n",
    "# sampleDict = {\n",
    "#   \"name\": \"Kelly\",\n",
    "#   \"age\":25,\n",
    "#   \"salary\": 8000,\n",
    "#   \"city\": \"New york\"\n",
    "  \n",
    "# }\n",
    "# keysToRemove = [\"name\", \"salary\"]\n",
    "\n",
    "# Expected Output:\n",
    "# {'city': 'New york', 'age': 25}\n",
    "\n",
    "sampleDict = {\n",
    "  \"name\": \"Kelly\",\n",
    "  \"age\":25,\n",
    "  \"salary\": 8000,\n",
    "  \"city\": \"New york\"\n",
    "}\n",
    "keysToRemove = [\"name\", \"salary\"]\n",
    "\n",
    "for i in keysToRemove:\n",
    "    sampleDict.pop(i)\n",
    "print (sampleDict)"
   ]
  }
 ],
 "metadata": {
  "kernelspec": {
   "display_name": "Python 3",
   "language": "python",
   "name": "python3"
  },
  "language_info": {
   "codemirror_mode": {
    "name": "ipython",
    "version": 3
   },
   "file_extension": ".py",
   "mimetype": "text/x-python",
   "name": "python",
   "nbconvert_exporter": "python",
   "pygments_lexer": "ipython3",
   "version": "3.8.5"
  }
 },
 "nbformat": 4,
 "nbformat_minor": 4
}
