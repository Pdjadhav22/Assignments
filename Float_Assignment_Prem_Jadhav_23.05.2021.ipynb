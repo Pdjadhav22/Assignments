{
 "cells": [
  {
   "cell_type": "markdown",
   "metadata": {},
   "source": [
    "# Float Assignment"
   ]
  },
  {
   "cell_type": "code",
   "execution_count": 1,
   "metadata": {},
   "outputs": [
    {
     "name": "stdout",
     "output_type": "stream",
     "text": [
      " ID of Float value is: 1871125373776\n"
     ]
    }
   ],
   "source": [
    "# Q-->> Declare a float value and store it in a variable. Check the type and print the id of the same.\n",
    "\n",
    "#Float value declared & stored in a variable\n",
    "num_1 = 5.5\n",
    "\n",
    "#Id of Value checked\n",
    "print(f' ID of Float value is: {id(num_1)}')"
   ]
  },
  {
   "cell_type": "code",
   "execution_count": 9,
   "metadata": {},
   "outputs": [
    {
     "name": "stdout",
     "output_type": "stream",
     "text": [
      "Sum of Float numbers is: 17.0\n",
      "Differene of Float Numbers is: -2.0\n",
      "Product of Float numbers is: 71.25\n",
      "Divison of Float numbers is: 0.7894736842105263\n",
      "Remainder after divison of Float numbers is : 7.5\n",
      "Quotient after divison of Float numbers is: 0.0\n",
      "First numer power to second numer is: 205627881.9918477\n"
     ]
    }
   ],
   "source": [
    "# Q-->>   Arithmetic Operations on float\n",
    "#         Take two different float values.\n",
    "#         Store them in two different variables.\n",
    "#         Do below operations on them:-\n",
    "#         Find sum of both numbers\n",
    "#         Find difference between them\n",
    "#         Find the product of both numbers.\n",
    "#         Find value after dividing first num with second number\n",
    "#         Find the remainder after dividing first number with second number\n",
    "#         Find the quotient after dividing first number with second number\n",
    "#         Find the result of the first num to the power of the second number\n",
    "\n",
    "# Two different float values considered & stored in variables\n",
    "num_1 = 7.5\n",
    "num_2 = 9.5\n",
    "\n",
    "# Arithmetic operations on FLoat numbers\n",
    "print (f'Sum of Float numbers is: {num_1 + num_2}')\n",
    "print (f'Differene of Float Numbers is: {num_1 - num_2}')\n",
    "print (f'Product of Float numbers is: {num_1 * num_2}')\n",
    "print (f'Divison of Float numbers is: {num_1 / num_2}')\n",
    "print (f'Remainder after divison of Float numbers is : {num_1 % num_2}')\n",
    "print (f'Quotient after divison of Float numbers is: {num_1 // num_2}')\n",
    "print (f'First numer power to second numer is: {num_1 ** num_2}')"
   ]
  },
  {
   "cell_type": "code",
   "execution_count": 15,
   "metadata": {},
   "outputs": [
    {
     "name": "stdout",
     "output_type": "stream",
     "text": [
      "Is num_1 greater than num_2:             False\n",
      "Is num_1 smaller than num-2:             True\n",
      "Is num_1 greater than or equal to num_2: False\n",
      "Is num_1 less than or equal to num_2:    True\n"
     ]
    }
   ],
   "source": [
    "# Q-->>   Comparison Operators on float\n",
    "#         Take two different float values.\n",
    "#         Store them in two different variables.\n",
    "#         Do below operations on them:-\n",
    "#         Compare these two numbers with below operator:-\n",
    "#         Greater than, '>'\n",
    "#         Smaller than, '<'\n",
    "#         Greater than or equal to, '>='\n",
    "#         Less than or equal to, '<='\n",
    "#         Observe their output(return type should be boolean)\n",
    "\n",
    "# Considered two Float numbers\n",
    "num_1 = 6.2\n",
    "num_2 = 8.4\n",
    "\n",
    "# Comparison operators on float value\n",
    "print (f'Is num_1 greater than num_2:             {num_1 > num_2}')\n",
    "print (f'Is num_1 smaller than num-2:             {num_1 < num_2}')\n",
    "print (f'Is num_1 greater than or equal to num_2: {num_1 >= num_2}')\n",
    "print (f'Is num_1 less than or equal to num_2:    {num_1 <= num_2}')"
   ]
  },
  {
   "cell_type": "code",
   "execution_count": 18,
   "metadata": {},
   "outputs": [
    {
     "name": "stdout",
     "output_type": "stream",
     "text": [
      "Are both Float values same:      False\n",
      "Are both Float values different: True\n"
     ]
    }
   ],
   "source": [
    "# Q-->>   Equality Operator\n",
    "#         Take two different float values.\n",
    "#         Store them in two different variables.\n",
    "#         Equate them using equality operators (==, !=)\n",
    "#         Observe the output(return type should be boolean)\n",
    "\n",
    "# Two different float values considered\n",
    "num_1 = 6.5\n",
    "num_2 = 9.2\n",
    "\n",
    "# Equality opertor in Float Values\n",
    "print (f'Are both Float values same:      {num_1 == num_2}')\n",
    "print (f'Are both Float values different: {num_1 != num_2}')"
   ]
  },
  {
   "cell_type": "code",
   "execution_count": 19,
   "metadata": {},
   "outputs": [
    {
     "name": "stdout",
     "output_type": "stream",
     "text": [
      "True\n",
      "True\n",
      "True\n"
     ]
    }
   ],
   "source": [
    "# Q-->> Logical operators, Observe the output of below code, Cross check the output manually\n",
    "\n",
    "# print ( 10.20 and 20.30 ) #both are true and second value taken    >Output is 20.3\n",
    "\n",
    "print(bool (10.20))          # output True - as bool of anything other than 0.0 is True\n",
    "print (bool (20.30))         # output True - as bool of anything other than 0.0 is True\n",
    "print(bool(10.20) and bool(20.30))      # output True - as both Values are True\n",
    "# and operator gives last True value as ouput, i.e. 20.30 in this case.\n"
   ]
  },
  {
   "cell_type": "code",
   "execution_count": 20,
   "metadata": {},
   "outputs": [
    {
     "name": "stdout",
     "output_type": "stream",
     "text": [
      "False\n",
      "True\n",
      "False\n"
     ]
    }
   ],
   "source": [
    "# print ( 0.0 and 20.30 ) #First is false so first value taken->Output is 0.0\n",
    "\n",
    "print(bool (0.0))              # output False- as bool of 0.0 is False.\n",
    "print (bool (20.30))           # output True - as bool of anything other than 0.0 is True\n",
    "print(bool(0.0) and bool(20.30))      # output False - as one of the value is false\n",
    "# and operator gives First false value as ouput, i.e. 0.0 in this case."
   ]
  },
  {
   "cell_type": "code",
   "execution_count": 21,
   "metadata": {},
   "outputs": [
    {
     "name": "stdout",
     "output_type": "stream",
     "text": [
      "True\n",
      "False\n",
      "False\n"
     ]
    }
   ],
   "source": [
    "# print ( 20.30 and 0.0 ) #Goes to till second and second value is false so second is taken>Output is 0.0\n",
    "\n",
    "print(bool (20.30))              # output True - as bool of anything other than 0.0 is True\n",
    "print (bool (0.0))               # output False- as bool of 0.0 is False.  \n",
    "print(bool(0.0) and bool(20.30))      # output False - as one of the value is false\n",
    "# and operator gives First false value as ouput, i.e. 0.0 in this case."
   ]
  },
  {
   "cell_type": "code",
   "execution_count": 22,
   "metadata": {},
   "outputs": [
    {
     "name": "stdout",
     "output_type": "stream",
     "text": [
      "False\n",
      "False\n",
      "False\n"
     ]
    }
   ],
   "source": [
    "# print ( 0.0 and 0.0 ) #First is false so first value is taken->Output is 0.0\n",
    "\n",
    "print(bool (0.0))                # output False- as bool of 0.0 is False.  \n",
    "print (bool (0.0))               # output False- as bool of 0.0 is False.  \n",
    "print(bool(0.0) and bool(0.0))    # output False - as both values are false\n",
    "# and operator gives First false value as ouput, i.e. 0.0 in this case."
   ]
  },
  {
   "cell_type": "code",
   "execution_count": 23,
   "metadata": {},
   "outputs": [
    {
     "name": "stdout",
     "output_type": "stream",
     "text": [
      "True\n",
      "True\n",
      "True\n"
     ]
    }
   ],
   "source": [
    "# print ( 10.20 or 20.30 ) #First is True so first value is taken>Output is 10.2\n",
    "\n",
    "print(bool (10.20))                # output True - as bool of anything other than 0.0 is True\n",
    "print (bool (20.30))               # output True - as bool of anything other than 0.0 is True \n",
    "print(bool(10.20) or bool(20.30)) # output True - as one of the value is True\n",
    "# or operator gives First True value as ouput, i.e. 10.20 in this case."
   ]
  },
  {
   "cell_type": "code",
   "execution_count": 25,
   "metadata": {},
   "outputs": [
    {
     "name": "stdout",
     "output_type": "stream",
     "text": [
      "False\n",
      "True\n",
      "True\n"
     ]
    }
   ],
   "source": [
    "# print ( 0.0 or 20.30 ) #Goes to till second and second is true second value is taken->Output is 20.3\n",
    "\n",
    "print(bool (0.0))                  # output False- as bool of 0.0 is False.\n",
    "print (bool (20.30))               # output True - as bool of anything other than 0.0 is True \n",
    "print(bool(0.0) or bool(20.30))   # output True - as one of the value is True\n",
    "# or operator gives First True value as ouput, i.e. 20.30 in this case."
   ]
  },
  {
   "cell_type": "code",
   "execution_count": 26,
   "metadata": {},
   "outputs": [
    {
     "name": "stdout",
     "output_type": "stream",
     "text": [
      "True\n",
      "False\n",
      "True\n"
     ]
    }
   ],
   "source": [
    "# print ( 20.30 or 0.0 ) #First is True so first value is taken->Output is 20.3\n",
    "\n",
    "print(bool (20.30))                 # output True - as bool of anything other than 0.0 is True\n",
    "print (bool (0.0))                  # output False- as bool of 0.0 is False.\n",
    "print(bool(0.0) or bool(20.30))     # output True - as one of the value is True\n",
    "# or operator gives First True value as ouput, i.e. 20.30 in this case."
   ]
  },
  {
   "cell_type": "code",
   "execution_count": 27,
   "metadata": {},
   "outputs": [
    {
     "name": "stdout",
     "output_type": "stream",
     "text": [
      "False\n",
      "False\n",
      "False\n"
     ]
    }
   ],
   "source": [
    "# print ( 0.0 or 0.0 ) #Goes to till second and second is also false and second value is taken>Output is 0.0\n",
    "\n",
    "print(bool (0.0))                # output False- as bool of 0.0 is False.  \n",
    "print (bool (0.0))               # output False- as bool of 0.0 is False.  \n",
    "print(bool(0.0) or bool(0.0))    # output False - as both values are false\n",
    "# and operator gives last False value as ouput, i.e. 0.0 in this case."
   ]
  },
  {
   "cell_type": "code",
   "execution_count": 28,
   "metadata": {},
   "outputs": [
    {
     "name": "stdout",
     "output_type": "stream",
     "text": [
      "True\n",
      "False\n"
     ]
    }
   ],
   "source": [
    "# print ( not 10.20 ) #-Not of true is false->Output is False\n",
    "\n",
    "print(bool(10.20))         # output True - as bool of anything other than 0.0 is True\n",
    "print (not bool(10.20))    # output False - as not operator changes True to False & False to True"
   ]
  },
  {
   "cell_type": "code",
   "execution_count": 29,
   "metadata": {},
   "outputs": [
    {
     "name": "stdout",
     "output_type": "stream",
     "text": [
      "False\n",
      "True\n"
     ]
    }
   ],
   "source": [
    "# print ( not 0.0 ) #Not of false is True>Output is True\n",
    "\n",
    "print(bool(0.0))         # output False- as bool of 0.0 is False.\n",
    "print (not bool(0.0))    # output True - as not operator changes True to False & False to True"
   ]
  },
  {
   "cell_type": "code",
   "execution_count": 34,
   "metadata": {},
   "outputs": [
    {
     "name": "stdout",
     "output_type": "stream",
     "text": [
      "1871126167792\n",
      "1871126168368\n",
      "False\n",
      "1871126167792\n",
      "True\n"
     ]
    }
   ],
   "source": [
    "# Q-->>   What is the output of expression inside print statement. Cross check before running the program.\n",
    "#         a = 10.20\n",
    "#         b = 10.20\n",
    "#         print (a is b) #True or False? True 10.20<256\n",
    "#         print (a is not b) #True or False? False\n",
    "#         Why the Id of float values are different when the same value is assigned to two different variables\n",
    "#         ex: a = 10.5 b=10.5. but id will be same if I assign the variable having float i.e. a=c then both a and c's Id are same\n",
    "\n",
    "a = 10.20\n",
    "b = 10.20\n",
    "print (id(a))\n",
    "print (id(b))\n",
    "print (id(a) is id(b))  # Output is False - as for float values id is always different even if value is same.\n",
    "                        # Object reusability concept is not applicable on float values.\n",
    "\n",
    "c = a\n",
    "print (id(c))  # Id of a & c are same as c calls for id of a\n",
    "print ( a is c) # Output True - as c calls for id of a"
   ]
  },
  {
   "cell_type": "code",
   "execution_count": 36,
   "metadata": {},
   "outputs": [
    {
     "name": "stdout",
     "output_type": "stream",
     "text": [
      "True\n",
      "True\n",
      "True\n",
      "True\n",
      "True\n",
      "True\n"
     ]
    }
   ],
   "source": [
    "# Q-->>    Membership operation\n",
    "#         in, not in are two membership operators and it returns boolean value\n",
    "\n",
    "print ( '2.7' in 'Python2.7.8' ) #True - 2.7 is available in Pyhton2.7.8\n",
    "print ( 10.20 in [ 10 , 10.20 , 10 + 20j , 'Python' ]) #True - 10.20 is available in given list\n",
    "print ( 10.20 in ( 10 , 10.20 , 10 + 20j , 'Python' )) # True - 10.20 is available in given tuple\n",
    "print ( 20.30 in { 1 , 20.30 , 30 + 40j })             # True - 20.30 is available in given set\n",
    "print ( 2.3 in { 1 : 100 , 2.3 : 200 , 30 + 40j : 300 }) # True - 2.3 is available in given dict as key\n",
    "print ( 10 in range ( 20 ))                             # True - 10 is available in given range"
   ]
  }
 ],
 "metadata": {
  "kernelspec": {
   "display_name": "Python 3",
   "language": "python",
   "name": "python3"
  },
  "language_info": {
   "codemirror_mode": {
    "name": "ipython",
    "version": 3
   },
   "file_extension": ".py",
   "mimetype": "text/x-python",
   "name": "python",
   "nbconvert_exporter": "python",
   "pygments_lexer": "ipython3",
   "version": "3.8.5"
  }
 },
 "nbformat": 4,
 "nbformat_minor": 4
}
