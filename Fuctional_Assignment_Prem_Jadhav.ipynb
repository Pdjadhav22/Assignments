{
 "cells": [
  {
   "cell_type": "code",
   "execution_count": 1,
   "metadata": {
    "ExecuteTime": {
     "end_time": "2021-06-16T16:03:06.574320Z",
     "start_time": "2021-06-16T16:03:06.549604Z"
    }
   },
   "outputs": [
    {
     "data": {
      "text/plain": [
       "16"
      ]
     },
     "execution_count": 1,
     "metadata": {},
     "output_type": "execute_result"
    }
   ],
   "source": [
    "# Define a function calls addNumber(x, y) that takes in two number and returns the sum of the two numbers.\n",
    "\n",
    "# Finction for for adding 2 numbers\n",
    "def add(x,y):\n",
    "    return x + y\n",
    "\n",
    "#Fucntion call\n",
    "add (10,6)"
   ]
  },
  {
   "cell_type": "code",
   "execution_count": 2,
   "metadata": {
    "ExecuteTime": {
     "end_time": "2021-06-16T16:04:58.103316Z",
     "start_time": "2021-06-16T16:04:58.089174Z"
    }
   },
   "outputs": [
    {
     "data": {
      "text/plain": [
       "7"
      ]
     },
     "execution_count": 2,
     "metadata": {},
     "output_type": "execute_result"
    }
   ],
   "source": [
    "# Define a function calls subtractNumber(x, y) that takes in two numbers and returns the difference of the two numbers.\n",
    "\n",
    "# Function for subtraction\n",
    "def subtract(x,y):\n",
    "    return x-y\n",
    "\n",
    "# Function call\n",
    "subtract(65,58)"
   ]
  },
  {
   "cell_type": "code",
   "execution_count": 3,
   "metadata": {
    "ExecuteTime": {
     "end_time": "2021-06-16T16:08:48.895946Z",
     "start_time": "2021-06-16T16:08:48.880320Z"
    }
   },
   "outputs": [
    {
     "data": {
      "text/plain": [
       "89"
      ]
     },
     "execution_count": 3,
     "metadata": {},
     "output_type": "execute_result"
    }
   ],
   "source": [
    "# Write a function getBiggerNumber(x, y) that takes in two numbers as arguments and returns the bigger number.\n",
    "\n",
    "# Function to find bigger number\n",
    "def big_number(x,y):\n",
    "    return max(x,y)\n",
    "\n",
    "# Function call\n",
    "big_number(65,89)"
   ]
  },
  {
   "cell_type": "code",
   "execution_count": 15,
   "metadata": {
    "ExecuteTime": {
     "end_time": "2021-06-16T16:21:46.123328Z",
     "start_time": "2021-06-16T16:21:46.111628Z"
    }
   },
   "outputs": [
    {
     "name": "stdout",
     "output_type": "stream",
     "text": [
      "square root of 25 is 5.0\n",
      "2 to the power of 5 is 32.0\n",
      "Area of circle with radius 3.0 is 28.27\n"
     ]
    }
   ],
   "source": [
    "# Python provides many built-in modules with many useful functions. \n",
    "# One such module is the math module. The math module provides many useful functions such as sqrt(x), pow(x, y), ceil(x), floor(x) etc. \n",
    "# You will need to do a \"import math\" before you are allowed to use the functions within the math module.\n",
    "\n",
    "# Calculate the square root of 16 and stores it in the variable a\n",
    "from math import sqrt\n",
    "x = 25\n",
    "a = sqrt(x)\n",
    "print (f'square root of {x} is {a}')\n",
    "\n",
    "# Calculate 3 to the power of 5 and stores it in the variable b\n",
    "from math import pow\n",
    "x = 2\n",
    "y = 5\n",
    "b = pow(x, y)\n",
    "print (f'{x} to the power of {y} is {b}')\n",
    "\n",
    "# Calculate area of circle with radius = 3.0 by making use of the math.pi constant and store it in the variable c\n",
    "from math import pi\n",
    "radius = 3.0\n",
    "c = pi* radius**2\n",
    "print (f'Area of circle with radius {radius} is {round(c,2)}')\n"
   ]
  },
  {
   "cell_type": "code",
   "execution_count": 54,
   "metadata": {
    "ExecuteTime": {
     "end_time": "2021-06-16T17:06:30.331539Z",
     "start_time": "2021-06-16T17:06:30.319277Z"
    }
   },
   "outputs": [
    {
     "name": "stdout",
     "output_type": "stream",
     "text": [
      "82.40 <class 'str'>\n",
      "32.00 <class 'str'>\n"
     ]
    }
   ],
   "source": [
    "# Write a function to convert temperature from Celsius to Fahrenheit scale.\n",
    "# oC to oF Conversion: Multipy by 9, then divide by 5, then add 32.\n",
    "\n",
    "# Note: Return a string of 2 decimal places.\n",
    "# In - Cel2Fah(28.0)\n",
    "# Out - '82.40'\n",
    "# In - Cel2Fah(0.00)\n",
    "# Out - '32.00'\n",
    "\n",
    "# Function for oC to oF conversion\n",
    "def cel2Fah(x):\n",
    "    oF = (x*9)/5 + 32\n",
    "    return format (oF, '.2f')\n",
    "\n",
    "# Function call\n",
    "print (cel2Fah(28.0), type(cel2Fah(28.0)))\n",
    "print (cel2Fah(0.00), type(cel2Fah(0.00)))"
   ]
  },
  {
   "cell_type": "code",
   "execution_count": 65,
   "metadata": {
    "ExecuteTime": {
     "end_time": "2021-06-16T17:23:03.759031Z",
     "start_time": "2021-06-16T17:23:03.743125Z"
    }
   },
   "outputs": [
    {
     "data": {
      "text/plain": [
       "'27.5'"
      ]
     },
     "execution_count": 65,
     "metadata": {},
     "output_type": "execute_result"
    }
   ],
   "source": [
    "# Write a function to compute the BMI of a person.\n",
    "#     BMI = weight(kg)  /  ( height(m)*height(m) )\n",
    "\n",
    "# Note: Return a string of 1 decimal place.\n",
    "# In - BMI(63, 1.7)\n",
    "# Out - '21.8'\n",
    "# In - BMI(110, 2)\n",
    "# Out - '27.5'\n",
    "\n",
    "# Function to get BMI\n",
    "def BMI(w,h):\n",
    "    return format (w/ h**2, '.1f')\n",
    "\n",
    "# Function calling\n",
    "BMI(63,1.7)\n",
    "BMI(110,2)"
   ]
  },
  {
   "cell_type": "code",
   "execution_count": 68,
   "metadata": {
    "ExecuteTime": {
     "end_time": "2021-06-16T17:27:40.713119Z",
     "start_time": "2021-06-16T17:27:40.704009Z"
    }
   },
   "outputs": [
    {
     "data": {
      "text/plain": [
       "525"
      ]
     },
     "execution_count": 68,
     "metadata": {},
     "output_type": "execute_result"
    }
   ],
   "source": [
    "# Write a function percent(value, total) that takes in two numbers as arguments, and returns the percentage value as an integer.\n",
    "# In - percent(46, 90)\n",
    "# Out - 51\n",
    "# In - percent(51, 51)\n",
    "# Out - 100\n",
    "# In - percent(63, 12)\n",
    "# Out - 525\n",
    "\n",
    "# Function to get percentage of value & total\n",
    "def percent(x, y):\n",
    "    from math import trunc\n",
    "    return trunc(x / y * 100)\n",
    "\n",
    "# Function call\n",
    "percent(46,90)\n",
    "percent(63, 12)"
   ]
  },
  {
   "cell_type": "code",
   "execution_count": 81,
   "metadata": {
    "ExecuteTime": {
     "end_time": "2021-06-16T17:39:07.429238Z",
     "start_time": "2021-06-16T17:39:07.418664Z"
    }
   },
   "outputs": [
    {
     "name": "stdout",
     "output_type": "stream",
     "text": [
      "5\n",
      "13\n"
     ]
    }
   ],
   "source": [
    "# Write a function to compute the hypotenuse given sides a and b of the triangle.\n",
    "# Hint: You can use math.sqrt(x) to compute the square root of x.\n",
    "# In - hypotenuse(3, 4)\n",
    "# Out - 5\n",
    "# In - hypotenuse(5, 12)\n",
    "# Out - 13\n",
    "\n",
    "# function to get hypotenuse of a right triangle\n",
    "def hypotenuse(a, b):\n",
    "    from math import hypot\n",
    "    return int(hypot(a, b))\n",
    "\n",
    "def hypotenuse1(a, b):\n",
    "    from math import sqrt\n",
    "    return int(sqrt(a**2 + b**2))\n",
    "\n",
    "# Function call\n",
    "print (hypotenuse(3,4))\n",
    "print (hypotenuse1(5, 12))"
   ]
  },
  {
   "cell_type": "code",
   "execution_count": 87,
   "metadata": {
    "ExecuteTime": {
     "end_time": "2021-06-16T17:50:07.994386Z",
     "start_time": "2021-06-16T17:50:07.974043Z"
    }
   },
   "outputs": [
    {
     "data": {
      "text/plain": [
       "10"
      ]
     },
     "execution_count": 87,
     "metadata": {},
     "output_type": "execute_result"
    }
   ],
   "source": [
    "# Write a function getSumOfLastDigits() that takes in a list of positive numbers and returns the sum of all the last digits in the list.\n",
    "# getSumOfLastDigits([2, 3, 4])\n",
    "# 9\n",
    "# getSumOfLastDigits([1, 23, 456])\n",
    "# 10\n",
    "\n",
    "#Function to get sum of last digits\n",
    "def getSumOfLastDisgits(lst):\n",
    "    sum = 0\n",
    "    for i in lst:\n",
    "        sum += int(str(i)[-1])\n",
    "    return sum\n",
    "\n",
    "#Function call\n",
    "getSumOfLastDisgits([1, 23, 456])"
   ]
  },
  {
   "cell_type": "code",
   "execution_count": 90,
   "metadata": {
    "ExecuteTime": {
     "end_time": "2021-06-16T17:57:57.089937Z",
     "start_time": "2021-06-16T17:57:57.080054Z"
    }
   },
   "outputs": [
    {
     "name": "stdout",
     "output_type": "stream",
     "text": [
      "My name is Lim. I am 20 years old.\n",
      "My name is Ahmad. My age is secret.\n"
     ]
    }
   ],
   "source": [
    "# Write a function that uses a default value.\n",
    "# In - introduce('Lim', 20)\n",
    "# Out - 'My name is Lim. I am 20 years old.'\n",
    "# In - introduce('Ahmad')\n",
    "# Out - 'My name is Ahmad. My age is secret.'\n",
    "\n",
    "# Fucntion for introduction\n",
    "def introduce(name, age='secret'):\n",
    "    return f'My name is {name}. I am {age} years old.' if age != 'secret' else f'My name is {name}. My age is {age}.'\n",
    "\n",
    "# FUnction call\n",
    "print (introduce('Lim', 20))\n",
    "print (introduce('Ahmad'))"
   ]
  },
  {
   "cell_type": "code",
   "execution_count": 95,
   "metadata": {
    "ExecuteTime": {
     "end_time": "2021-06-16T18:09:43.034702Z",
     "start_time": "2021-06-16T18:09:43.024546Z"
    }
   },
   "outputs": [
    {
     "name": "stdout",
     "output_type": "stream",
     "text": [
      "False\n",
      "True\n",
      "False\n"
     ]
    }
   ],
   "source": [
    "# Write a function isEquilateral(x, y, z) that accepts the 3 sides of a triangle as arguments. \n",
    "# The program should return True if it is an equilateral triangle.\n",
    "\n",
    "# In - isEquilateral(2, 4, 3)\n",
    "# False - False\n",
    "# In - isEquilateral(3, 3, 3)\n",
    "# Out - True\n",
    "# In - isEquilateral(-3, -3, -3)\n",
    "# Out - False\n",
    "\n",
    "# Function to find if triangle is Equilateral\n",
    "def isEquilateral(x, y, z):\n",
    "    return (True if x == y and y == z else False) if x>0 and y>0 and z>0 else False\n",
    "\n",
    "# Function call\n",
    "print (isEquilateral(2, 4, 3))\n",
    "print (isEquilateral(3, 3, 3))\n",
    "print (isEquilateral(-3, -3, -3))"
   ]
  },
  {
   "cell_type": "code",
   "execution_count": 99,
   "metadata": {
    "ExecuteTime": {
     "end_time": "2021-06-16T18:19:42.772996Z",
     "start_time": "2021-06-16T18:19:42.753953Z"
    }
   },
   "outputs": [
    {
     "name": "stdout",
     "output_type": "stream",
     "text": [
      "The discriminant is -8\n",
      "The discriminant is 1\n",
      "The discriminant is 0\n"
     ]
    }
   ],
   "source": [
    "# For a quadratic equation in the form of ax2+bx+c, the discriminant, D is b2-4ac. Write a function to compute the discriminant, D.\n",
    "# In - quadratic(1, 2, 3)\n",
    "# Out - 'The discriminant is -8.'\n",
    "# In - quadratic(1, 3, 2)\n",
    "# Out - 'The discriminant is 1.'\n",
    "# In - quadratic(1, 4, 4)\n",
    "# Out - 'The discriminant is 0.'\n",
    "\n",
    "# Function to get discriminant\n",
    "def quadratic(a, b, c):\n",
    "    D = (b**2) - (4*a*c)\n",
    "    print (f'The discriminant is {D}')\n",
    "\n",
    "# Function call\n",
    "quadratic(1, 2, 3)\n",
    "quadratic (1, 3, 2)\n",
    "quadratic (1, 4, 4)"
   ]
  },
  {
   "cell_type": "code",
   "execution_count": 103,
   "metadata": {
    "ExecuteTime": {
     "end_time": "2021-06-16T18:22:34.875970Z",
     "start_time": "2021-06-16T18:22:34.863890Z"
    }
   },
   "outputs": [
    {
     "data": {
      "text/plain": [
       "'List is empty'"
      ]
     },
     "execution_count": 103,
     "metadata": {},
     "output_type": "execute_result"
    }
   ],
   "source": [
    "# Define a function calls addFirstAndLast(x) that takes in a list of numbers and returns the sum of the first and last numbers.\n",
    "# In - addFirstAndLast([])\n",
    "# Out - 0\n",
    "# In - addFirstAndLast([2, 7, 3])\n",
    "# Out - 5\n",
    "# In - addFirstAndLast([10])\n",
    "# Out - 10\n",
    "\n",
    "def addFirstAndLast(lst):\n",
    "    if len(lst) == 1:\n",
    "        return lst[0]\n",
    "    elif lst:\n",
    "        return lst[0] + lst[-1]\n",
    "    else:\n",
    "        return 'List is empty'\n",
    "\n",
    "addFirstAndLast([])"
   ]
  },
  {
   "cell_type": "code",
   "execution_count": 107,
   "metadata": {
    "ExecuteTime": {
     "end_time": "2021-06-16T18:27:58.598995Z",
     "start_time": "2021-06-16T18:27:58.588173Z"
    }
   },
   "outputs": [
    {
     "data": {
      "text/plain": [
       "False"
      ]
     },
     "execution_count": 107,
     "metadata": {},
     "output_type": "execute_result"
    }
   ],
   "source": [
    "# Complete the 'lambda' expression so that it returns True if the argument is an even number, and False otherwise.\n",
    "\n",
    "(lambda x: True if x%2 == 0 else False)(5)"
   ]
  },
  {
   "cell_type": "code",
   "execution_count": 109,
   "metadata": {
    "ExecuteTime": {
     "end_time": "2021-06-16T18:30:23.543607Z",
     "start_time": "2021-06-16T18:30:23.538257Z"
    }
   },
   "outputs": [],
   "source": [
    "# getScore.__doc__\n",
    "# 'A function that computes and returns the final score.'\n",
    "\n",
    "def getScore():\n",
    "    '''A function that computes and returns the final score.'''\n",
    "    pass\n",
    "\n",
    "getScore()"
   ]
  },
  {
   "cell_type": "code",
   "execution_count": 112,
   "metadata": {
    "ExecuteTime": {
     "end_time": "2021-06-16T18:36:39.122544Z",
     "start_time": "2021-06-16T18:36:39.104261Z"
    }
   },
   "outputs": [
    {
     "data": {
      "text/plain": [
       "1"
      ]
     },
     "execution_count": 112,
     "metadata": {},
     "output_type": "execute_result"
    }
   ],
   "source": [
    "# In Python, it is possible to pass a function as a argument to another function. \n",
    "# Write a function useFunction(func, num) that takes in a function and a number as arguments. \n",
    "# The useFunction should produce the output shown in the examples given below.\n",
    "\n",
    "# def addOne(x):\n",
    "#   return x + 1\n",
    "# useFunction(addOne, 4)\n",
    "# 25\n",
    "# useFunction(addOne, 9)\n",
    "# 100\n",
    "# useFunction(addOne, 0)\n",
    "# 1\n",
    "\n",
    "# Function add 1 in given number\n",
    "def addone(x):\n",
    "    return x+1\n",
    "\n",
    "# Function to use another function as argument\n",
    "def useFunction(addone,num):\n",
    "    return addone(num)**2\n",
    "\n",
    "# Function call\n",
    "useFunction(addone, 0)\n"
   ]
  }
 ],
 "metadata": {
  "kernelspec": {
   "display_name": "Python 3",
   "language": "python",
   "name": "python3"
  },
  "language_info": {
   "codemirror_mode": {
    "name": "ipython",
    "version": 3
   },
   "file_extension": ".py",
   "mimetype": "text/x-python",
   "name": "python",
   "nbconvert_exporter": "python",
   "pygments_lexer": "ipython3",
   "version": "3.8.5"
  }
 },
 "nbformat": 4,
 "nbformat_minor": 4
}
