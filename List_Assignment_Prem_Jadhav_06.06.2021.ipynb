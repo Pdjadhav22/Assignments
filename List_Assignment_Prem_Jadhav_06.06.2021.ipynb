{
 "cells": [
  {
   "cell_type": "code",
   "execution_count": 83,
   "metadata": {
    "ExecuteTime": {
     "end_time": "2021-06-04T18:49:43.167999Z",
     "start_time": "2021-06-04T18:49:43.149775Z"
    }
   },
   "outputs": [
    {
     "name": "stdout",
     "output_type": "stream",
     "text": [
      "100\n"
     ]
    }
   ],
   "source": [
    "#Write a Python program to find the sum of all elements in a list using loop.\n",
    "#Input:- [10,20,30,40]\n",
    "#Output:- 100\n",
    "\n",
    "#Intialising input list  data\n",
    "lst = [10,20,30,40]\n",
    "\n",
    "# variable to store sum total\n",
    "total = 0\n",
    "\n",
    "# using for loop to iterate through each element of list.\n",
    "for ele in lst:\n",
    "    total += ele\n",
    "\n",
    "print (total)"
   ]
  },
  {
   "cell_type": "code",
   "execution_count": 6,
   "metadata": {
    "ExecuteTime": {
     "end_time": "2021-06-04T16:09:46.899756Z",
     "start_time": "2021-06-04T16:09:46.891268Z"
    }
   },
   "outputs": [
    {
     "name": "stdout",
     "output_type": "stream",
     "text": [
      "240000\n"
     ]
    }
   ],
   "source": [
    "#Write a Python program to find the multiplication of all elements in a list using loop.\n",
    "#Input:- [10,20,30,40]\n",
    "#Output:- 240000\n",
    "\n",
    "# Initialising input list data\n",
    "lst = [10, 20, 30, 40]\n",
    "\n",
    "# Variable to store multiplied values\n",
    "total_mult = \n",
    "\n",
    "# using for loop to itererate through list elements\n",
    "for ele in lst:\n",
    "    total_mult *= ele\n",
    "\n",
    "print (total_mult)"
   ]
  },
  {
   "cell_type": "code",
   "execution_count": 7,
   "metadata": {
    "ExecuteTime": {
     "end_time": "2021-06-04T16:14:15.265164Z",
     "start_time": "2021-06-04T16:14:15.260167Z"
    }
   },
   "outputs": [
    {
     "name": "stdout",
     "output_type": "stream",
     "text": [
      "2321\n"
     ]
    }
   ],
   "source": [
    "#Write a Python program to find the largest number from a list using loop.\n",
    "#Input:- [10,100,2321, 1,200,2]\n",
    "#Output:- 2321\n",
    "\n",
    "# initilising input list\n",
    "lst = [10, 100, 2321, 1, 200, 2]\n",
    "\n",
    "# at start consider first element as largest\n",
    "lrg_num = lst[0]\n",
    "\n",
    "# using for loop to iterate through list elements\n",
    "for ele in lst:\n",
    "    if ele >= lrg_num:\n",
    "        lrg_num = ele\n",
    "\n",
    "print (lrg_num)"
   ]
  },
  {
   "cell_type": "code",
   "execution_count": 9,
   "metadata": {
    "ExecuteTime": {
     "end_time": "2021-06-04T16:16:41.312605Z",
     "start_time": "2021-06-04T16:16:41.299137Z"
    }
   },
   "outputs": [
    {
     "name": "stdout",
     "output_type": "stream",
     "text": [
      "1\n"
     ]
    }
   ],
   "source": [
    "#Write a Python program to find the smallest number from a list using loop.\n",
    "#Input:- [10,100,2321, 1,200,2]\n",
    "#Output:- 1\n",
    "\n",
    "# initilising input list\n",
    "lst = [10, 100, 2321, 1, 200, 2]\n",
    "\n",
    "# at start consider first element as smallest\n",
    "sml_num = lst[0]\n",
    "\n",
    "# using for loop to iterate through list elements\n",
    "for ele in lst:\n",
    "    if ele <= sml_num:\n",
    "        sml_num = ele\n",
    "\n",
    "print (sml_num)"
   ]
  },
  {
   "cell_type": "code",
   "execution_count": 17,
   "metadata": {
    "ExecuteTime": {
     "end_time": "2021-06-04T16:24:28.069346Z",
     "start_time": "2021-06-04T16:24:28.054078Z"
    }
   },
   "outputs": [
    {
     "name": "stdout",
     "output_type": "stream",
     "text": [
      "aba\n",
      "1991\n",
      "There are \"2\" palindrome stirng in given list\n"
     ]
    }
   ],
   "source": [
    "#Write a Python program to count the number of strings having length more than 2 and are palindrome in a list using loop.\n",
    "#Input:- ['ab', 'abc', 'aba', 'xyz', '1991']\n",
    "#Output:- 2\n",
    "\n",
    "# initialising input list\n",
    "lst = ['ab', 'abc', 'aba', 'xyz', '1991']\n",
    "\n",
    "# variable to store count\n",
    "i = 0\n",
    "\n",
    "# iterating through lsit using for loop\n",
    "for ele in lst:\n",
    "    # condition to check if string lenght is more then 2\n",
    "    if len(ele) > 2:\n",
    "        #condition to check if string is palindrome\n",
    "        if ele == ele[::-1]:\n",
    "            i += 1\n",
    "            print (ele)\n",
    "print (f'There are \"{i}\" palindrome stirng in given list')"
   ]
  },
  {
   "cell_type": "code",
   "execution_count": 20,
   "metadata": {
    "ExecuteTime": {
     "end_time": "2021-06-04T16:27:05.738552Z",
     "start_time": "2021-06-04T16:27:05.724138Z"
    }
   },
   "outputs": [
    {
     "name": "stdout",
     "output_type": "stream",
     "text": [
      "[1, 2, 9, 10, 65, 80, 100, 298, 483, 9213, 49876]\n"
     ]
    }
   ],
   "source": [
    "#Write a Python program to sort a list in ascending order using loop.\n",
    "#Input:- [100,10,1,298,65,483,49876,2,80,9,9213]\n",
    "#Output:- [1,2,9,10,65,80,100,298,483,9213,49876]\n",
    "\n",
    "# initialsing input list\n",
    "lst = [100,10,1,298,65,483,49876,2,80,9,9213]\n",
    "\n",
    "# using sort method to to arrnage elements in ascending order\n",
    "lst.sort()\n",
    "print (lst)"
   ]
  },
  {
   "cell_type": "code",
   "execution_count": 36,
   "metadata": {
    "ExecuteTime": {
     "end_time": "2021-06-04T16:50:31.395160Z",
     "start_time": "2021-06-04T16:50:31.378194Z"
    }
   },
   "outputs": [
    {
     "name": "stdout",
     "output_type": "stream",
     "text": [
      "[(9, 1), (2, 3), (5, 4), (5, 5), (7, 6), (5, 9)]\n"
     ]
    }
   ],
   "source": [
    "#Write a Python program to get a sorted list in increasing order of last element in each tuple in a given list using loop.\n",
    "#Input:- [(5,4),(9,1),(2,3),(5,9),(7,6),(5,5)]\n",
    "#output:- [(9,1),(2,3),(5,4),(5,5),(7,6),(5,9)]\n",
    "\n",
    "# initialsing input list\n",
    "lst = [(5,4),(9,1),(2,3),(5,9),(7,6),(5,5)]\n",
    "\n",
    "# considered empty list to store reversed tuple elements\n",
    "rev_tple = []\n",
    "\n",
    "# iterating through elements using loop & creating list of rev. elements\n",
    "for ele in lst:\n",
    "    rev_tple.append(ele[::-1])\n",
    "\n",
    "# sorting reversed list\n",
    "rev_tple.sort()\n",
    "\n",
    "# considered an empty list to store output list\n",
    "res_lst = []\n",
    "for ele in rev_tple:\n",
    "    res_lst.append(ele[::-1])\n",
    "\n",
    "print (res_lst)"
   ]
  },
  {
   "cell_type": "code",
   "execution_count": 47,
   "metadata": {
    "ExecuteTime": {
     "end_time": "2021-06-04T17:38:13.235004Z",
     "start_time": "2021-06-04T17:38:13.213539Z"
    }
   },
   "outputs": [
    {
     "name": "stdout",
     "output_type": "stream",
     "text": [
      "[(9, 1), (2, 3), (5, 4), (5, 5), (7, 6), (5, 9)]\n"
     ]
    }
   ],
   "source": [
    "# same result as above using sort key function.\n",
    "\n",
    "# defining a function to get last element in each tuple element\n",
    "def last_ele (e2):\n",
    "    return e2[-1]\n",
    "\n",
    "# input list\n",
    "lst = [(5,4),(9,1),(2,3),(5,9),(7,6),(5,5)]\n",
    "\n",
    "# using sort method with key funtion to get desired output\n",
    "lst.sort(key=last_ele)\n",
    "print (lst)"
   ]
  },
  {
   "cell_type": "code",
   "execution_count": 6,
   "metadata": {
    "ExecuteTime": {
     "end_time": "2021-06-06T14:47:16.323271Z",
     "start_time": "2021-06-06T14:47:16.313969Z"
    }
   },
   "outputs": [
    {
     "ename": "SyntaxError",
     "evalue": "invalid syntax (<ipython-input-6-cde1b9e245e3>, line 19)",
     "output_type": "error",
     "traceback": [
      "\u001b[1;36m  File \u001b[1;32m\"<ipython-input-6-cde1b9e245e3>\"\u001b[1;36m, line \u001b[1;32m19\u001b[0m\n\u001b[1;33m    lst_comp = [[ele for ele in lst] if ele not in lst_comp]\u001b[0m\n\u001b[1;37m                                                           ^\u001b[0m\n\u001b[1;31mSyntaxError\u001b[0m\u001b[1;31m:\u001b[0m invalid syntax\n"
     ]
    }
   ],
   "source": [
    "#Write a Python program to remove duplicate element from a list using loop.\n",
    "#Input:- [10,1,11,1,29,876,768,10,11,1,92,29,876]\n",
    "#Output:- [10,1,11,29,876,768,92]\n",
    "\n",
    "# initialising input list\n",
    "lst = [10,1,11,1,29,876,768,10,11,1,92,29,876]\n",
    "\n",
    "# empty list to store non duplicate values\n",
    "new_lst = []\n",
    "\n",
    "# iterating through list to check duplicate values\n",
    "for ele in lst:\n",
    "    if ele not in new_lst:\n",
    "        new_lst.append(ele)\n",
    "print(new_lst)\n",
    "\n",
    "# using list comprehension method\n",
    "lst_comp = []\n",
    "lst_comp = [[ele for ele in lst] for i in ]\n",
    "lst_comp"
   ]
  },
  {
   "cell_type": "code",
   "execution_count": 87,
   "metadata": {
    "ExecuteTime": {
     "end_time": "2021-06-04T18:57:57.154977Z",
     "start_time": "2021-06-04T18:57:57.147687Z"
    }
   },
   "outputs": [
    {
     "data": {
      "text/plain": [
       "'List not Empty'"
      ]
     },
     "execution_count": 87,
     "metadata": {},
     "output_type": "execute_result"
    }
   ],
   "source": [
    "#Write a Python program to check a list is empty or not?\n",
    "#Input:- []\n",
    "#Output:- List is empty\n",
    "#Input:- [10,20,30]\n",
    "#Output:- List is not empty\n",
    "\n",
    "# initialising input list\n",
    "lst = [10,20,30]\n",
    "\n",
    "# to check if sting is empty or not\n",
    "'List Empty' if len(lst) == 0 else 'List not Empty'"
   ]
  },
  {
   "cell_type": "code",
   "execution_count": 88,
   "metadata": {
    "ExecuteTime": {
     "end_time": "2021-06-04T18:59:19.163746Z",
     "start_time": "2021-06-04T18:59:19.158171Z"
    }
   },
   "outputs": [
    {
     "name": "stdout",
     "output_type": "stream",
     "text": [
      "[10, 10.2, (10+20j), 'Python', [10, 20], (10, 20)]\n",
      "[10, 10.2, (10+20j), 'Python', [10, 20], (10, 20)]\n"
     ]
    }
   ],
   "source": [
    "#Write a Python program to copy a list using loop.\n",
    "#inp_lst = [10,10.20,10+20j, 'Python', [10,20], (10,20)]\n",
    "#out_lst = [10,10.20,10+20j, 'Python', [10,20], (10,20)]\n",
    "\n",
    "# initialising input list\n",
    "inp_lst = [10,10.20,10+20j, 'Python', [10,20], (10,20)]\n",
    "\n",
    "# empty list to copy input list using loop\n",
    "out_lst = []\n",
    "\n",
    "for i in inp_lst:\n",
    "    out_lst.append(i)\n",
    "    \n",
    "print (out_lst)\n",
    "\n",
    "# using list comprehension\n",
    "out_lst1 = [ele for ele in inp_lst]\n",
    "print (out_lst1)"
   ]
  },
  {
   "cell_type": "code",
   "execution_count": 100,
   "metadata": {
    "ExecuteTime": {
     "end_time": "2021-06-04T19:14:12.658961Z",
     "start_time": "2021-06-04T19:14:12.641295Z"
    }
   },
   "outputs": [
    {
     "name": "stdout",
     "output_type": "stream",
     "text": [
      "['much', 'wood', 'would', 'woodchuck', 'chuck', 'could']\n"
     ]
    }
   ],
   "source": [
    "#Write a Python program to find the list of words that are longer than or equal to 4 from a given string.\n",
    "#Input:- 'How much wood would a woodchuck chuck if a woodchuck could chuck wood'\n",
    "#Output:- ['much', 'wood', 'would', 'woodchuck', 'chuck', 'could']\n",
    "#Note:- Duplicate should be avoided.\n",
    "\n",
    "# initialising input string\n",
    "str1 = 'How much wood would a woodchuck chuck if a woodchuck could chuck wood'\n",
    "\n",
    "# creating list of input string using split method\n",
    "lst = str1.split()\n",
    "\n",
    "# empty list to store output list as required\n",
    "out_lst = []\n",
    "\n",
    "# iterating through list using for loop\n",
    "for ele in lst:\n",
    "    # condtion to check length of string & avoid dupication\n",
    "    if len(ele) >= 4 and ele not in out_lst:\n",
    "            out_lst.append(ele)\n",
    "print (out_lst)"
   ]
  },
  {
   "cell_type": "code",
   "execution_count": 65,
   "metadata": {
    "ExecuteTime": {
     "end_time": "2021-06-04T18:11:01.873530Z",
     "start_time": "2021-06-04T18:11:01.857753Z"
    }
   },
   "outputs": [
    {
     "data": {
      "text/plain": [
       "True"
      ]
     },
     "execution_count": 65,
     "metadata": {},
     "output_type": "execute_result"
    }
   ],
   "source": [
    "#Write a Python program which takes two list as input and returns True if they have at least 3 common elements.\n",
    "#inp_lst1 = [10,20,'Python', 10.20, 10+20j, [10,20,30], (10,20,30)]\n",
    "#inp_lst2 = [(10,20,30),1,20+3j,100.2, 10+20j, [10,20,30],'Python']\n",
    "#Output:- True\n",
    "\n",
    "# initialising input lists\n",
    "inp_lst1 = [10,20,'Python', 10.20, 10+20j, [10,20,30], (10,20,30)]\n",
    "inp_lst2 = [(10,20,30),1,20+3j,100.2, 10+20j, [10,20,30],'Python']\n",
    "\n",
    "# variable to store count \n",
    "i = 0\n",
    "\n",
    "# iterating through list 1 using for loop\n",
    "for ele in inp_lst1:\n",
    "    # condition to check if list1 element is available in list 2, if yes then count increases\n",
    "    if ele in inp_lst2:\n",
    "        i += 1\n",
    "        \n",
    "# condtion to check if atleast 3 common elements available.\n",
    "True if i>=3 else False\n"
   ]
  },
  {
   "cell_type": "code",
   "execution_count": 3,
   "metadata": {
    "ExecuteTime": {
     "end_time": "2021-06-06T07:34:53.733534Z",
     "start_time": "2021-06-06T07:34:53.712100Z"
    }
   },
   "outputs": [
    {
     "data": {
      "text/plain": [
       "[[0, 0, 0, 0], [0, 1, 2, 3], [0, 2, 4, 6], [0, 3, 6, 9]]"
      ]
     },
     "execution_count": 3,
     "metadata": {},
     "output_type": "execute_result"
    }
   ],
   "source": [
    "#Write a Python program to create a 4X4 2D matrix with below elements using loop and list comprehension both.\n",
    "#Output:- [[0,0,0,0],[0,1,2,3],[0,2,4,6],[0,3,6,9]]\n",
    "\n",
    "# initialising input list\n",
    "# lst = [[0,0,0,0],[0,1,2,3],[0,2,4,6],[0,3,6,9]]\n",
    "\n",
    "# using list comprehension\n",
    "lst1 = [[i*ele for i in range(4)] for ele in range(4)]\n",
    "lst1"
   ]
  },
  {
   "cell_type": "code",
   "execution_count": 4,
   "metadata": {
    "ExecuteTime": {
     "end_time": "2021-06-06T14:17:26.136050Z",
     "start_time": "2021-06-06T14:17:26.120762Z"
    }
   },
   "outputs": [
    {
     "name": "stdout",
     "output_type": "stream",
     "text": [
      "[[0, 0, 0, 0, 0, 1, 2, 3, 0, 2, 4, 6, 0, 3, 6, 9], [0, 0, 0, 0, 0, 1, 2, 3, 0, 2, 4, 6, 0, 3, 6, 9], [0, 0, 0, 0, 0, 1, 2, 3, 0, 2, 4, 6, 0, 3, 6, 9], [0, 0, 0, 0, 0, 1, 2, 3, 0, 2, 4, 6, 0, 3, 6, 9]]\n"
     ]
    }
   ],
   "source": [
    "# using for loop\n",
    "# initialising input list\n",
    "\n",
    "# Empty list to store values\n",
    "lst1 = []\n",
    "lst2 = []\n",
    "for ele in range(4):\n",
    "    for i in range(4):\n",
    "        lst1.append(i*ele)\n",
    "    lst2.append(lst1)\n",
    "print (lst2)"
   ]
  },
  {
   "cell_type": "code",
   "execution_count": 5,
   "metadata": {
    "ExecuteTime": {
     "end_time": "2021-06-06T14:31:11.526882Z",
     "start_time": "2021-06-06T14:31:11.499163Z"
    }
   },
   "outputs": [
    {
     "data": {
      "text/plain": [
       "[[[0, 0, 0, 0, 0, 0],\n",
       "  [0, 0, 0, 0, 0, 0],\n",
       "  [0, 0, 0, 0, 0, 0],\n",
       "  [0, 0, 0, 0, 0, 0]],\n",
       " [[0, 0, 0, 0, 0, 0],\n",
       "  [1, 1, 1, 1, 1, 1],\n",
       "  [2, 2, 2, 2, 2, 2],\n",
       "  [3, 3, 3, 3, 3, 3]],\n",
       " [[0, 0, 0, 0, 0, 0],\n",
       "  [2, 2, 2, 2, 2, 2],\n",
       "  [4, 4, 4, 4, 4, 4],\n",
       "  [6, 6, 6, 6, 6, 6]]]"
      ]
     },
     "execution_count": 5,
     "metadata": {},
     "output_type": "execute_result"
    }
   ],
   "source": [
    "#Write a Python program to create a 3X4X6 3D matrix wiith below elements using loop\n",
    "#Output:- \n",
    "# [\n",
    "#     [[0,0,0,0,0,0],[0,0,0,0,0,0],[0,0,0,0,0,0],[0,0,0,0,0,0]],\n",
    "#     [[0,0,0,0,0,0],[1,1,1,1,1,1],[2,2,2,2,2,2],[3,3,3,3,3,3]],\n",
    "#     [[0,0,0,0,0,0],[2,2,2,2,2,2],[4,4,4,4,4,4],[6,6,6,6,6,6]]\n",
    "# ]\n",
    "\n",
    "lst = [[[j*k for i in range(6)] for j in range(4)] for k in range(3)]\n",
    "lst"
   ]
  },
  {
   "cell_type": "code",
   "execution_count": 77,
   "metadata": {
    "ExecuteTime": {
     "end_time": "2021-06-04T18:25:43.807345Z",
     "start_time": "2021-06-04T18:25:43.795464Z"
    }
   },
   "outputs": [
    {
     "name": "stdout",
     "output_type": "stream",
     "text": [
      "[21, 87, 45, 33, 1]\n"
     ]
    }
   ],
   "source": [
    "#Write a Python program which takes a list of numbers as input and prints a new list after removing even numbers from it.\n",
    "#Input:- [10,21,22,98,87,45,33,1,2,100]\n",
    "#Output:- [21,87,45,33,1]\n",
    "\n",
    "# initialising input list\n",
    "lst = [10,21,22,98,87,45,33,1,2,100]\n",
    "\n",
    "# using list comprrehension to check for odd numbers & creat new list with those elements\n",
    "new_lst = [ele for ele in lst if ele % 2 != 0]\n",
    "print (new_lst)"
   ]
  },
  {
   "cell_type": "code",
   "execution_count": 78,
   "metadata": {
    "ExecuteTime": {
     "end_time": "2021-06-04T18:30:51.212750Z",
     "start_time": "2021-06-04T18:30:51.190665Z"
    }
   },
   "outputs": [
    {
     "ename": "NameError",
     "evalue": "name 'random' is not defined",
     "output_type": "error",
     "traceback": [
      "\u001b[1;31m---------------------------------------------------------------------------\u001b[0m",
      "\u001b[1;31mNameError\u001b[0m                                 Traceback (most recent call last)",
      "\u001b[1;32m<ipython-input-78-c46f0d73d4b9>\u001b[0m in \u001b[0;36m<module>\u001b[1;34m\u001b[0m\n\u001b[0;32m      4\u001b[0m \u001b[1;33m\u001b[0m\u001b[0m\n\u001b[0;32m      5\u001b[0m \u001b[0mlst\u001b[0m \u001b[1;33m=\u001b[0m \u001b[1;33m[\u001b[0m\u001b[1;36m10\u001b[0m\u001b[1;33m,\u001b[0m\u001b[1;36m21\u001b[0m\u001b[1;33m,\u001b[0m\u001b[1;36m22\u001b[0m\u001b[1;33m,\u001b[0m\u001b[1;36m98\u001b[0m\u001b[1;33m,\u001b[0m\u001b[1;36m87\u001b[0m\u001b[1;33m,\u001b[0m\u001b[1;36m45\u001b[0m\u001b[1;33m,\u001b[0m\u001b[1;36m33\u001b[0m\u001b[1;33m,\u001b[0m\u001b[1;36m1\u001b[0m\u001b[1;33m,\u001b[0m\u001b[1;36m2\u001b[0m\u001b[1;33m,\u001b[0m\u001b[1;36m100\u001b[0m\u001b[1;33m]\u001b[0m\u001b[1;33m\u001b[0m\u001b[1;33m\u001b[0m\u001b[0m\n\u001b[1;32m----> 6\u001b[1;33m \u001b[0mlst\u001b[0m\u001b[1;33m.\u001b[0m\u001b[0msort\u001b[0m\u001b[1;33m(\u001b[0m\u001b[0mkey\u001b[0m\u001b[1;33m=\u001b[0m\u001b[0mrandom\u001b[0m\u001b[1;33m)\u001b[0m\u001b[1;33m\u001b[0m\u001b[1;33m\u001b[0m\u001b[0m\n\u001b[0m",
      "\u001b[1;31mNameError\u001b[0m: name 'random' is not defined"
     ]
    }
   ],
   "source": [
    "#Write a Python program which takes a list from the user and prints it after reshuffling the elements of the list.\n",
    "#Input:- [10,21,22,98,87,45,33,1,2,100]\n",
    "#Output:- [1,87,21,10,33,2,100,45,98,22] (It may be any randon list but with same elements)\n",
    "\n"
   ]
  },
  {
   "cell_type": "code",
   "execution_count": 81,
   "metadata": {
    "ExecuteTime": {
     "end_time": "2021-06-04T18:37:18.607866Z",
     "start_time": "2021-06-04T18:37:18.593698Z"
    }
   },
   "outputs": [
    {
     "data": {
      "text/plain": [
       "3.143"
      ]
     },
     "execution_count": 81,
     "metadata": {},
     "output_type": "execute_result"
    }
   ],
   "source": [
    "round(22/7,3)"
   ]
  },
  {
   "cell_type": "code",
   "execution_count": null,
   "metadata": {},
   "outputs": [],
   "source": []
  }
 ],
 "metadata": {
  "kernelspec": {
   "display_name": "Python 3",
   "language": "python",
   "name": "python3"
  },
  "language_info": {
   "codemirror_mode": {
    "name": "ipython",
    "version": 3
   },
   "file_extension": ".py",
   "mimetype": "text/x-python",
   "name": "python",
   "nbconvert_exporter": "python",
   "pygments_lexer": "ipython3",
   "version": "3.8.5"
  }
 },
 "nbformat": 4,
 "nbformat_minor": 4
}
