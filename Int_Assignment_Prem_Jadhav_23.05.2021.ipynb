{
 "cells": [
  {
   "cell_type": "code",
   "execution_count": 2,
   "metadata": {},
   "outputs": [
    {
     "name": "stdout",
     "output_type": "stream",
     "text": [
      " Value 10 is of <class 'int'> & it's id is 140713936037952\n"
     ]
    }
   ],
   "source": [
    "# Q-->> Declare an int value and store it in a variable, \n",
    "#       Check the type and print the id of the same.\n",
    " \n",
    "\n",
    "# Declared int value 10 & stored in variable num\n",
    "num = 10\n",
    "\n",
    "# Datatype & id checked \n",
    "num_type = type(num)\n",
    "num_id = id(num)\n",
    "\n",
    "print(f\" Value {num} is of {num_type} & it's id is {num_id}\")"
   ]
  },
  {
   "cell_type": "code",
   "execution_count": 8,
   "metadata": {},
   "outputs": [
    {
     "name": "stdout",
     "output_type": "stream",
     "text": [
      "140713936037952\n",
      "140713936037952\n",
      "True\n"
     ]
    }
   ],
   "source": [
    "# Q-->> Take one int value between 0 - 256.\n",
    "#       Assign it to two different variables.\n",
    "#       Check the id of both the variables. It should come the same. Check why?\n",
    "\n",
    "# Value assignment to Variables\n",
    "num1 = 10\n",
    "num2 = 10\n",
    "\n",
    "# Checked id for both variables\n",
    "print(id(num1))\n",
    "print(id(num2))        # as value is within object reusablity range. a common id used for variables with same value\n",
    "\n",
    "#checked using is identity operator\n",
    "print(num1 is num2)    # as this is true - both variables has same id ."
   ]
  },
  {
   "cell_type": "code",
   "execution_count": 9,
   "metadata": {},
   "outputs": [
    {
     "name": "stdout",
     "output_type": "stream",
     "text": [
      "1670030258384\n",
      "1670030258320\n",
      "False\n"
     ]
    }
   ],
   "source": [
    "# Q--->> Take one int value either less than -5 or greater than 256.\n",
    "#        Assign it to two different variables.\n",
    "#        Check the id of both the variables. It should come different.Check why?\n",
    "\n",
    "# Value assignment to Variables\n",
    "num1 = 300\n",
    "num2 = 300\n",
    "\n",
    "# Checked id for both variables\n",
    "print(id(num1))\n",
    "print(id(num2))        # as value is not within object reusablity range. a different id assigned for variables with same value\n",
    "\n",
    "#checked using is identity operator\n",
    "print(num1 is num2)    # as this is False - both variables has different id ."
   ]
  },
  {
   "cell_type": "code",
   "execution_count": null,
   "metadata": {},
   "outputs": [],
   "source": [
    "# Q-->>   Arithmetic Operations on integers\n",
    "#         Take two different integer values.\n",
    "#         Store them in two different variables.\n",
    "#         Do below operations on them:-\n",
    "#         Find sum of both numbers\n",
    "#         Find difference between them\n",
    "#         Find the product of both numbers.\n",
    "#         Find value after dividing first num with second number\n",
    "#         Find the remainder after dividing first number with second number\n",
    "#         Find the quotient after dividing first number with second number\n",
    "#         Find the result of the first num to the power of the second number.\n",
    "\n",
    "# Two int values considered & Stored in different variables\n",
    "num_1 = 10\n",
    "num_2 = 20\n",
    "\n",
    "\n"
   ]
  }
 ],
 "metadata": {
  "kernelspec": {
   "display_name": "Python 3",
   "language": "python",
   "name": "python3"
  },
  "language_info": {
   "codemirror_mode": {
    "name": "ipython",
    "version": 3
   },
   "file_extension": ".py",
   "mimetype": "text/x-python",
   "name": "python",
   "nbconvert_exporter": "python",
   "pygments_lexer": "ipython3",
   "version": "3.8.5"
  }
 },
 "nbformat": 4,
 "nbformat_minor": 4
}
