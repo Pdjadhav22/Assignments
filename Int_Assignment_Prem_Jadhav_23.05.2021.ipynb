{
 "cells": [
  {
   "cell_type": "code",
   "execution_count": 1,
   "metadata": {},
   "outputs": [
    {
     "name": "stdout",
     "output_type": "stream",
     "text": [
      " Value 10 is of <class 'int'> & id is 140713936037952\n"
     ]
    }
   ],
   "source": [
    "# Q--> Declare an int value and store it in a variable, Check the type and print the id of the same.\n",
    " \n",
    "\n",
    "# Declared int value 10 & stored in variable num\n",
    "num = 10\n",
    "\n",
    "# Datatype & id checked \n",
    "num_type = type(num)\n",
    "num_id = id(num)\n",
    "\n",
    "print(f' Value {num} is of {num_type} & id is {num_id}')"
   ]
  }
 ],
 "metadata": {
  "kernelspec": {
   "display_name": "Python 3",
   "language": "python",
   "name": "python3"
  },
  "language_info": {
   "codemirror_mode": {
    "name": "ipython",
    "version": 3
   },
   "file_extension": ".py",
   "mimetype": "text/x-python",
   "name": "python",
   "nbconvert_exporter": "python",
   "pygments_lexer": "ipython3",
   "version": "3.8.5"
  }
 },
 "nbformat": 4,
 "nbformat_minor": 4
}
