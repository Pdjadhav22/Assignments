{
 "cells": [
  {
   "cell_type": "code",
   "execution_count": 2,
   "metadata": {},
   "outputs": [
    {
     "name": "stdout",
     "output_type": "stream",
     "text": [
      " Value 10 is of <class 'int'> & it's id is 140713936037952\n"
     ]
    }
   ],
   "source": [
    "# Q-->> Declare an int value and store it in a variable, \n",
    "#       Check the type and print the id of the same.\n",
    " \n",
    "\n",
    "# Declared int value 10 & stored in variable num\n",
    "num = 10\n",
    "\n",
    "# Datatype & id checked \n",
    "num_type = type(num)\n",
    "num_id = id(num)\n",
    "\n",
    "print(f\" Value {num} is of {num_type} & it's id is {num_id}\")"
   ]
  },
  {
   "cell_type": "code",
   "execution_count": 8,
   "metadata": {},
   "outputs": [
    {
     "name": "stdout",
     "output_type": "stream",
     "text": [
      "140713936037952\n",
      "140713936037952\n",
      "True\n"
     ]
    }
   ],
   "source": [
    "# Q-->> Take one int value between 0 - 256.\n",
    "#       Assign it to two different variables.\n",
    "#       Check the id of both the variables. It should come the same. Check why?\n",
    "\n",
    "# Value assignment to Variables\n",
    "num1 = 10\n",
    "num2 = 10\n",
    "\n",
    "# Checked id for both variables\n",
    "print(id(num1))\n",
    "print(id(num2))        # as value is within object reusablity range. a common id used for variables with same value\n",
    "\n",
    "#checked using is identity operator\n",
    "print(num1 is num2)    # as this is true - both variables has same id ."
   ]
  },
  {
   "cell_type": "code",
   "execution_count": 9,
   "metadata": {},
   "outputs": [
    {
     "name": "stdout",
     "output_type": "stream",
     "text": [
      "1670030258384\n",
      "1670030258320\n",
      "False\n"
     ]
    }
   ],
   "source": [
    "# Q--->> Take one int value either less than -5 or greater than 256.\n",
    "#        Assign it to two different variables.\n",
    "#        Check the id of both the variables. It should come different.Check why?\n",
    "\n",
    "# Value assignment to Variables\n",
    "num1 = 300\n",
    "num2 = 300\n",
    "\n",
    "# Checked id for both variables\n",
    "print(id(num1))\n",
    "print(id(num2))        # as value is not within object reusablity range. a different id assigned for variables with same value\n",
    "\n",
    "#checked using is identity operator\n",
    "print(num1 is num2)    # as this is False - both variables has different id ."
   ]
  },
  {
   "cell_type": "code",
   "execution_count": 26,
   "metadata": {},
   "outputs": [
    {
     "name": "stdout",
     "output_type": "stream",
     "text": [
      "Sum of both numbers is 30\n",
      "Difference of both numbers is -10\n",
      "Product of both numbers is 200\n",
      "Divison of both numbers is 0.5\n",
      "Remainder after dividing first number by sencond number 10\n",
      "Quotient after dividing both numbers is 0\n",
      "Result of 1st number power to 2nd number is 100000000000000000000\n"
     ]
    }
   ],
   "source": [
    "# Q-->>   Arithmetic Operations on integers\n",
    "#         Take two different integer values.\n",
    "#         Store them in two different variables.\n",
    "#         Do below operations on them:-\n",
    "#         Find sum of both numbers\n",
    "#         Find difference between them\n",
    "#         Find the product of both numbers.\n",
    "#         Find value after dividing first num with second number\n",
    "#         Find the remainder after dividing first number with second number\n",
    "#         Find the quotient after dividing first number with second number\n",
    "#         Find the result of the first num to the power of the second number.\n",
    "\n",
    "# Two int values considered & Stored in different variables\n",
    "num_1 = 10\n",
    "num_2 = 20\n",
    "\n",
    "#sum of both numbers\n",
    "num_sum = num_1 + num_2\n",
    "print(f'Sum of both numbers is {num_sum}')\n",
    "\n",
    "# Difference between numbers\n",
    "num_diff = num_1 - num_2\n",
    "print(f'Difference of both numbers is {num_diff}')\n",
    "\n",
    "# product of both numbers\n",
    "num_prod = num_1 * num_2\n",
    "print(f'Product of both numbers is {num_prod}')\n",
    "# Divison of both numbers\n",
    "\n",
    "num_div = num_1 / num_2\n",
    "print(f'Divison of both numbers is {num_div}')\n",
    "\n",
    "# Remainder after dividing first with second number\n",
    "num_rem = num_1 % num_2\n",
    "print(f'Remainder after dividing first number by sencond number {num_rem}')\n",
    "\n",
    "# Quotient after dividing numbers\n",
    "num_quo = num_1 // num_2\n",
    "print(f'Quotient after dividing both numbers is {num_quo}')\n",
    "\n",
    "# 1st number power to the 2nd number\n",
    "num_expo = num_1 ** num_2\n",
    "print(f'Result of 1st number power to 2nd number is {num_expo}')"
   ]
  },
  {
   "cell_type": "code",
   "execution_count": 34,
   "metadata": {},
   "outputs": [
    {
     "name": "stdout",
     "output_type": "stream",
     "text": [
      "Greater than: False\n",
      "Smaller than: True\n",
      "Greater than or Equal to: False\n",
      "Less than or equal to: True\n"
     ]
    }
   ],
   "source": [
    "# Q-->>   Comparison Operators on integers\n",
    "#         Take two different integer values.\n",
    "#         Store them in two different variables.\n",
    "#         Do below operations on them:-\n",
    "#         Compare se two numbers with below operator:-\n",
    "#         Greater than, '>'\n",
    "#         Smaller than, '<'\n",
    "#         Greater than or equal to, '>='\n",
    "#         Less than or equal to, '<='\n",
    "#         Observe their output(return type should be boolean)\n",
    "\n",
    "# Two different int values stored in two different variables\n",
    "num_1 = 50\n",
    "num_2 = 100\n",
    "\n",
    "# comparison of numbers using comparison operators\n",
    "print(f'Greater than: {num_1 > num_2}')\n",
    "print(f'Smaller than: {num_1 < num_2}')\n",
    "print(f'Greater than or Equal to: {num_1 >= num_2}')\n",
    "print(f'Less than or equal to: {num_1 <= num_2}')"
   ]
  },
  {
   "cell_type": "code",
   "execution_count": 36,
   "metadata": {},
   "outputs": [
    {
     "name": "stdout",
     "output_type": "stream",
     "text": [
      "Both numbers are equal: False\n",
      "Both numbers are not equal: True\n"
     ]
    }
   ],
   "source": [
    "# Q-->>   Equality Operator\n",
    "#         Take two different integer values.\n",
    "#         Store them in two different variables.\n",
    "#         Equate them using equality operators (==, !=)\n",
    "#         Observe the output(return type should be boolean)\n",
    "\n",
    "#Considered to different int values\n",
    "num_1 = 20\n",
    "num_2 = 40\n",
    "\n",
    "# Equating both using eqality operators\n",
    "print(f'Both numbers are equal: {num_1 == num_2}')\n",
    "print(f'Both numbers are not equal: {num_1 != num_2}')"
   ]
  },
  {
   "cell_type": "code",
   "execution_count": 54,
   "metadata": {},
   "outputs": [
    {
     "name": "stdout",
     "output_type": "stream",
     "text": [
      "True\n",
      "True\n",
      "True\n"
     ]
    }
   ],
   "source": [
    "# Q-->>   Logical operators\n",
    "#         Observe the output of below code\n",
    "#         Cross check the output manually\n",
    "\n",
    "# print ( 10 and 20 )     ----------------------------------------->Output is 20\n",
    "\n",
    "print(bool (10))          # output True - as bool of anything other than 0 is True\n",
    "print (bool (20))         # output True - as bool of anything other than 0 is True\n",
    "print(bool(10) and bool(20))      # output True - as both Values are True\n",
    "# and operator gives last True value as ouput, i.e. 20 in this case."
   ]
  },
  {
   "cell_type": "code",
   "execution_count": 56,
   "metadata": {},
   "outputs": [
    {
     "name": "stdout",
     "output_type": "stream",
     "text": [
      "False\n",
      "True\n",
      "False\n"
     ]
    }
   ],
   "source": [
    "# print ( 0 and 20 )     ----------------------------------------->Output is 0.\n",
    "\n",
    "print(bool (0))          # output False- as bool of 0 is False.\n",
    "print (bool (20))        # output True - as bool of anything other than 0 is True\n",
    "print(bool(0) and bool(20))      # output False - as one of the value is False\n",
    "# and operator gives first False value as output .i.e 0 in this case"
   ]
  },
  {
   "cell_type": "code",
   "execution_count": 58,
   "metadata": {},
   "outputs": [
    {
     "name": "stdout",
     "output_type": "stream",
     "text": [
      "True\n",
      "False\n",
      "False\n"
     ]
    }
   ],
   "source": [
    "# print ( 20 and 0 )      #----------------------------------------->Output is 0\n",
    "\n",
    "print(bool (20))          # output True - as bool of anything other than 0 is True\n",
    "print (bool (0))          # output False- as bool of 0 is False.\n",
    "print(bool(0) and bool(20))      # output False - as one of the value is False\n",
    "# and operator gives first False value as output .i.e 0 in this case"
   ]
  },
  {
   "cell_type": "code",
   "execution_count": 57,
   "metadata": {},
   "outputs": [
    {
     "name": "stdout",
     "output_type": "stream",
     "text": [
      "False\n",
      "False\n",
      "False\n"
     ]
    }
   ],
   "source": [
    "# print ( 0 and 0 )       #----------------------------------------->Output is 0\n",
    "print(bool (0))           # output False- as bool of 0 is False.\n",
    "print (bool (0))          # output False- as bool of 0 is False.\n",
    "print(bool(0) and bool(0))      # output False - as one/both of the value is False\n",
    "# and operator gives first False value as output .i.e 0 in this case"
   ]
  },
  {
   "cell_type": "code",
   "execution_count": 60,
   "metadata": {},
   "outputs": [
    {
     "name": "stdout",
     "output_type": "stream",
     "text": [
      "True\n",
      "True\n",
      "True\n"
     ]
    }
   ],
   "source": [
    "# print ( 10 or 20)      #----------------------------------------->Output is 10\n",
    "print(bool (10))           # output True - as bool of anything other than 0 is True\n",
    "print (bool (20))          # output True - as bool of anything other than 0 is True\n",
    "print(bool(10) or bool(20))      # output Ture - as one/both of the value is True\n",
    "# or operator gives first True value as ouput i.e. 10 in this case"
   ]
  },
  {
   "cell_type": "code",
   "execution_count": 61,
   "metadata": {},
   "outputs": [
    {
     "name": "stdout",
     "output_type": "stream",
     "text": [
      "False\n",
      "True\n",
      "True\n"
     ]
    }
   ],
   "source": [
    "# print ( 0 or 20 )       #----------------------------------------->Output is 20\n",
    "\n",
    "print(bool (0))           # # output False- as bool of 0 is False.\n",
    "print (bool (20))          # output True - as bool of anything other than 0 is True\n",
    "print(bool(0) or bool(20))      # output Ture - as one of the value is True\n",
    "# or operator gives first True value as ouput i.e. 20 in this case"
   ]
  },
  {
   "cell_type": "code",
   "execution_count": 63,
   "metadata": {},
   "outputs": [
    {
     "name": "stdout",
     "output_type": "stream",
     "text": [
      "True\n",
      "False\n",
      "True\n"
     ]
    }
   ],
   "source": [
    "# print ( 20 or 0 )       #----------------------------------------->Output is 20\n",
    "\n",
    "print(bool (20))           # output True - as bool of anything other than 0 is True\n",
    "print (bool (0))           # output False- as bool of 0 is False.\n",
    "print(bool(0) or bool(20))      # output Ture - as one of the value is True\n",
    "# or operator gives first True value as ouput i.e. 20 in this case\n",
    "\n"
   ]
  },
  {
   "cell_type": "code",
   "execution_count": 65,
   "metadata": {},
   "outputs": [
    {
     "name": "stdout",
     "output_type": "stream",
     "text": [
      "False\n",
      "False\n",
      "False\n"
     ]
    }
   ],
   "source": [
    "# print ( 0 or 0 )        #----------------------------------------->Output is 0\n",
    "\n",
    "print(bool (0))           # output False- as bool of 0 is False.\n",
    "print (bool (0))          # output False- as bool of 0 is False.\n",
    "print(bool(0) or bool(0))      # output False - as both values are False\n",
    "# or operator gives last False value as output .i.e 0 in this case"
   ]
  },
  {
   "cell_type": "code",
   "execution_count": 68,
   "metadata": {},
   "outputs": [
    {
     "name": "stdout",
     "output_type": "stream",
     "text": [
      "True\n",
      "False\n"
     ]
    }
   ],
   "source": [
    "# print ( not 10 )        #----------------------------------------->Output is False\n",
    "\n",
    "print(bool(10))         # output True - as bool of anything other than 0 is True\n",
    "print (not bool(10))    # output False - as not operator changes True to False & False to True"
   ]
  },
  {
   "cell_type": "code",
   "execution_count": null,
   "metadata": {},
   "outputs": [],
   "source": [
    "# print ( not 0 )         #----------------------------------------->Output is True\n",
    "\n",
    "print(bool(0))         # output False- as bool of 0 is False.\n",
    "print (not bool(0))    # output True - as not operator changes True to False & False to True"
   ]
  },
  {
   "cell_type": "code",
   "execution_count": 83,
   "metadata": {},
   "outputs": [
    {
     "name": "stdout",
     "output_type": "stream",
     "text": [
      "Bitwise & value for given numbers: 0\n",
      "Biniary value of 10: 0b1010\n",
      "Biniary value of 10: 0b10100\n",
      "0\n"
     ]
    }
   ],
   "source": [
    "# Q-->>   Bitwise Operators\n",
    "#         Do below operations on the values provided below:-\n",
    "#         Bitwise and(&) -----------------------------------------> 10, 20\n",
    "#         -------> Output is 0\n",
    "\n",
    "print(f'Bitwise & value for given numbers: {10 & 20}')\n",
    "\n",
    "print(f'Biniary value of 10: {bin(10)}')\n",
    "print(f'Biniary value of 10: {bin(20)}')\n",
    "\n",
    "# bin(10) -------- 01010\n",
    "# bin(20) -------- 10100\n",
    "#                ========\n",
    "# Bitwise and,& -- 00000  \n",
    "\n",
    "print(0b0000)   #----cross checking output"
   ]
  },
  {
   "cell_type": "code",
   "execution_count": 84,
   "metadata": {},
   "outputs": [
    {
     "name": "stdout",
     "output_type": "stream",
     "text": [
      "Bitwise | value for given numbers: 30\n",
      "Biniary value of 10: 0b1010\n",
      "Biniary value of 10: 0b10100\n",
      "30\n"
     ]
    }
   ],
   "source": [
    "# Bitwise or(|) -----------------------------------------> 10, 20\n",
    "#         -------> Output is 30\n",
    "\n",
    "print(f'Bitwise | value for given numbers: {10 | 20}')\n",
    "\n",
    "print(f'Biniary value of 10: {bin(10)}')\n",
    "print(f'Biniary value of 10: {bin(20)}')\n",
    "\n",
    "# bin(10) -------- 01010\n",
    "# bin(20) -------- 10100\n",
    "#                ========\n",
    "# Bitwise or,| -- 11110  \n",
    "\n",
    "print(0b11110)   #----cross checking output"
   ]
  },
  {
   "cell_type": "code",
   "execution_count": 85,
   "metadata": {},
   "outputs": [
    {
     "name": "stdout",
     "output_type": "stream",
     "text": [
      "Bitwise ^ value for given numbers: 30\n",
      "Biniary value of 10: 0b1010\n",
      "Biniary value of 10: 0b10100\n",
      "30\n"
     ]
    }
   ],
   "source": [
    "#         Bitwise(^) -----------------------------------------> 10, 20\n",
    "#         -------> Output is 30\n",
    "\n",
    "print(f'Bitwise ^ value for given numbers: {10 ^ 20}')\n",
    "\n",
    "print(f'Biniary value of 10: {bin(10)}')\n",
    "print(f'Biniary value of 10: {bin(20)}')\n",
    "\n",
    "# bin(10) -------- 01010\n",
    "# bin(20) -------- 10100\n",
    "#                ========\n",
    "# Bitwise XOR,^ -- 11110  \n",
    "\n",
    "print(0b11110)   #----cross checking output"
   ]
  },
  {
   "cell_type": "code",
   "execution_count": 88,
   "metadata": {},
   "outputs": [
    {
     "name": "stdout",
     "output_type": "stream",
     "text": [
      "Bitwise ~ value for given numbers: -11\n",
      "-11\n"
     ]
    }
   ],
   "source": [
    "#         Bitwise negation(~) ------------------------------------> 10\n",
    "#         -------> Output is -11\n",
    "\n",
    "print(f'Bitwise ~ value for given numbers: {~10}')\n",
    "\n",
    "bit_neg = -(10+1) #---- Bitwise negation is numner add by 1 & then multiply by -1\n",
    "print(bit_neg)    #----cross checking output"
   ]
  },
  {
   "cell_type": "code",
   "execution_count": 90,
   "metadata": {},
   "outputs": [
    {
     "name": "stdout",
     "output_type": "stream",
     "text": [
      "Bitwise << value for given numbers: 40\n",
      "40\n"
     ]
    }
   ],
   "source": [
    "#         Bitwise left shift ------------------------------------> 10,2\n",
    "#         -------> Output is 40\n",
    "\n",
    "print(f'Bitwise << value for given numbers: {10<<2}')\n",
    "\n",
    "# bin(10) --- 1010\n",
    "# Bitwise << by 2 ---- 101000   ---- shifts bits to left by given amount\n",
    "\n",
    "print(0b101000)   #----cross checking output"
   ]
  },
  {
   "cell_type": "code",
   "execution_count": 92,
   "metadata": {},
   "outputs": [
    {
     "name": "stdout",
     "output_type": "stream",
     "text": [
      "Bitwise >> value for given numbers: 2\n",
      "2\n"
     ]
    }
   ],
   "source": [
    "# Bitwise right shift ------------------------------------> 10,2\n",
    "#         -------> Output is 2\n",
    "\n",
    "print(f'Bitwise >> value for given numbers: {10>>2}')\n",
    "\n",
    "# bin(10) --- 1010\n",
    "# Bitwise >> by 2 ---- 0010   ---- shifts bits to right by given amount\n",
    "\n",
    "print(0b0010)   #----cross checking output"
   ]
  },
  {
   "cell_type": "code",
   "execution_count": 99,
   "metadata": {},
   "outputs": [
    {
     "name": "stdout",
     "output_type": "stream",
     "text": [
      "140713966839872\n",
      "140713966839872\n",
      "is id of a & b is same: True\n",
      "Output of given expression: True\n"
     ]
    }
   ],
   "source": [
    "# Q-->>   What is the output of expression inside print statement. Cross check\n",
    "#         before running the program.\n",
    "a = 10\n",
    "b = 10\n",
    "# print(a is b) #True or False?\n",
    "print(id(a))\n",
    "print(id(b))\n",
    "print (f'Is id of a & b is same: {id(a) == id(b)}') #--True --> same id, as value is within object reusability range of -5 to 256\n",
    "\n",
    "#  Output of given expresssion\n",
    "print(f'Output of given expression: {a is b}')"
   ]
  },
  {
   "cell_type": "code",
   "execution_count": 104,
   "metadata": {},
   "outputs": [
    {
     "name": "stdout",
     "output_type": "stream",
     "text": [
      "140713966839872\n",
      "140713966839872\n",
      "Is id of a & b is not same: False\n",
      "Output of given expression: False\n"
     ]
    }
   ],
   "source": [
    "#         print(a is not b) #True or False?\n",
    "\n",
    "a = 10\n",
    "b = 10\n",
    "# print(a is b) #True or False?\n",
    "print(id(a))\n",
    "print(id(b))\n",
    "print (f'Is id of a & b is not same: {id(a) != id(b)}') #--False --> same id, as value is within object reusability range of -5 to 256\n",
    "\n",
    "#  Output of given expresssion\n",
    "print(f'Output of given expression: {a is not b}')"
   ]
  },
  {
   "cell_type": "code",
   "execution_count": 105,
   "metadata": {},
   "outputs": [
    {
     "name": "stdout",
     "output_type": "stream",
     "text": [
      "2031149895120\n",
      "2031149895408\n",
      "Is id of a & b is same: False\n",
      "Output of given expression: False\n"
     ]
    }
   ],
   "source": [
    "a = 1000\n",
    "b = 1000\n",
    "# print(a is b) #True or False?\n",
    "print(id(a))\n",
    "print(id(b))\n",
    "print (f'Is id of a & b is same: {id(a) == id(b)}')  #--False -->different id, as value is out of object reusability range of -5 to 256\n",
    "\n",
    "#  Output of given expresssion\n",
    "print(f'Output of given expression: {a is b}')"
   ]
  },
  {
   "cell_type": "code",
   "execution_count": 107,
   "metadata": {},
   "outputs": [
    {
     "name": "stdout",
     "output_type": "stream",
     "text": [
      "2031149894288\n",
      "2031149893936\n",
      "Is id of a & b is not same: True\n",
      "Output of given expression: True\n"
     ]
    }
   ],
   "source": [
    "a = 1000\n",
    "b = 1000\n",
    "# print(a is not b) #True or False?\n",
    "print(id(a))\n",
    "print(id(b))\n",
    "print (f'Is id of a & b is not same: {id(a) != id(b)}')  #--True -->different id, as value is out of object reusability range of -5 to 256\n",
    "\n",
    "#  Output of given expresssion\n",
    "print(f'Output of given expression: {a is not b}')"
   ]
  },
  {
   "cell_type": "code",
   "execution_count": 112,
   "metadata": {},
   "outputs": [
    {
     "name": "stdout",
     "output_type": "stream",
     "text": [
      "Output of given Expression: 20\n"
     ]
    }
   ],
   "source": [
    "# Q. What is the output of expression inside print statement. Cross check before running the program.\n",
    "# print ( 10 +( 10 * 32 )// 2 ** 5 & 20 +(~( -10 ))<< 2 )\n",
    "\n",
    "# solution is done as per Operator Precedence rule:\n",
    "10 + 320 // 2**5 & 20 + 9 << 2   #  Brackets are solved (10 * 32) & (~(-10)).\n",
    "10 + 320 // 32 & 20 +9 << 2      #  Exponents are solved 2**5.\n",
    "10 + 10 & 20 + 9 << 2            #  Floor Divison solved 320//32.\n",
    "20 & 29 << 2                     #  Addition solved 10+10 , 20+9.\n",
    "20 & 116                         #  Bitwise left shift solved 29<<2.\n",
    "20                               #  Bitwise and solved 20 & 116\n",
    "\n",
    "print(f'Output of given Expression: {10 +( 10 * 32 )// 2 ** 5 & 20 +(~( -10 ))<< 2}')"
   ]
  },
  {
   "cell_type": "code",
   "execution_count": 121,
   "metadata": {},
   "outputs": [
    {
     "name": "stdout",
     "output_type": "stream",
     "text": [
      "True\n",
      "True\n",
      "True\n",
      "True\n",
      "True\n",
      "True\n"
     ]
    }
   ],
   "source": [
    "# Q.      Membership operation in, not in are two membership operators and it returns boolean value\n",
    "#         print ( '2' in 'Python2.7.8' )\n",
    "#         print ( 10 in [ 10 , 10.20 , 10 + 20j , 'Python' ])\n",
    "#         print ( 10 in ( 10 , 10.20 , 10 + 20j , 'Python' ))\n",
    "#         print ( 2 in { 1 , 2 , 3 })\n",
    "#         print ( 3 in { 1 : 100 , 2 : 200 , 3 : 300 })\n",
    "#         print ( 10 in range ( 20 ))\n",
    "\n",
    "print ( '2' in 'Python2.7.8' )                        # True - as 2 is available in 'Pyhton2.7.8'\n",
    "print ( 10 in [ 10 , 10.20 , 10 + 20j , 'Python' ])   # True - as 10 is avialble is given list\n",
    "print ( 10 in ( 10 , 10.20 , 10 + 20j , 'Python' ))   # True - as 10 is available in given tuple\n",
    "print ( 2 in { 1 , 2 , 3 })                           # True - as 2 is available in given set\n",
    "print ( 3 in { 1 : 100 , 2 : 200 , 3 : 300 })         # True - as 3 is available in given dict as key.\n",
    "print ( 10 in range ( 20 ))                           # True - as 10 is available range(20).. i.e range(0 , 20)"
   ]
  },
  {
   "cell_type": "code",
   "execution_count": 127,
   "metadata": {},
   "outputs": [
    {
     "name": "stdout",
     "output_type": "stream",
     "text": [
      "Binary equivalent of 9876:      0b10011010010100\n",
      "Octal equivalent of 9876:       0o23224\n",
      "Hexadecimal equivalent of 9876: 0x2694\n"
     ]
    }
   ],
   "source": [
    "# Q-->>   An integer can be represented in binary, octal or hexadecimal form.\n",
    "#         Declare one binary, one octal and one hexadecimal value and store them\n",
    "#         in three different variables.\n",
    "#         Convert 9876 to its binary, octal and hexadecimal equivalent and print\n",
    "#         their corresponding value.\n",
    "\n",
    "num_bin = 0b10011010010100\n",
    "num_oct = 0o23224\n",
    "num_Hexa = 0x2694\n",
    "\n",
    "num_1 = 9876\n",
    "print(f'Binary equivalent of 9876:      {bin(num_1)}')\n",
    "print(f'Octal equivalent of 9876:       {oct(num_1)}')\n",
    "print(f'Hexadecimal equivalent of 9876: {hex(num_1)}')"
   ]
  },
  {
   "cell_type": "code",
   "execution_count": 135,
   "metadata": {},
   "outputs": [
    {
     "name": "stdout",
     "output_type": "stream",
     "text": [
      "0b1010000: 80\n",
      "0o7436: 3870\n",
      "0xfade: 64222\n",
      "bin (80): 0b1010000\n",
      "oct (3870): 0o7436\n",
      "hex (64222): 0xfade\n",
      "bin (0b1010000): 0b1010000\n",
      "bin (0xfade): 0b1111101011011110\n",
      "oct (0xfade): 0o175336\n",
      "oct (0o7436): 0o7436\n",
      "hex (0b1010000): 0x50\n",
      "hex (0xfade): 0xfade\n"
     ]
    }
   ],
   "source": [
    "# Q-->> What will be the output of following:-\n",
    "\n",
    "a = 0b1010000\n",
    "print (f'0b1010000: {a}')\n",
    "\n",
    "b = 0o7436\n",
    "print (f'0o7436: {b}')\n",
    "\n",
    "c = 0xfade\n",
    "print (f'0xfade: {c}')\n",
    "\n",
    "print (f'bin (80): {bin ( 80 )}')               # int to bin\n",
    "print (f'oct (3870): {oct ( 3870 )}')           # int to oct\n",
    "print (f'hex (64222): {hex ( 64222 )}')         # int to Hexa\n",
    "print (f'bin (0b1010000): {bin (0b1010000)}')   # bin to bin\n",
    "print (f'bin (0xfade): {bin (0xfade)}')         # Hexa to bin\n",
    "print (f'oct (0xfade): {oct (0xfade)}')         # Hexa to oct\n",
    "print (f'oct (0o7436): {oct (0o7436)}')         # oct to Hexa\n",
    "print (f'hex (0b1010000): {hex (0b1010000)}')   # bin to Hexa\n",
    "print (f'hex (0xfade): {hex (0xfade)}')         # Hexa to Hexa"
   ]
  },
  {
   "cell_type": "code",
   "execution_count": null,
   "metadata": {},
   "outputs": [],
   "source": []
  },
  {
   "cell_type": "code",
   "execution_count": null,
   "metadata": {},
   "outputs": [],
   "source": []
  },
  {
   "cell_type": "code",
   "execution_count": null,
   "metadata": {},
   "outputs": [],
   "source": []
  }
 ],
 "metadata": {
  "kernelspec": {
   "display_name": "Python 3",
   "language": "python",
   "name": "python3"
  },
  "language_info": {
   "codemirror_mode": {
    "name": "ipython",
    "version": 3
   },
   "file_extension": ".py",
   "mimetype": "text/x-python",
   "name": "python",
   "nbconvert_exporter": "python",
   "pygments_lexer": "ipython3",
   "version": "3.8.5"
  }
 },
 "nbformat": 4,
 "nbformat_minor": 4
}
